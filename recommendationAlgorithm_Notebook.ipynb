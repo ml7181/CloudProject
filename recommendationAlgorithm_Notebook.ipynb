{
 "cells": [
  {
   "cell_type": "code",
   "execution_count": 1,
   "id": "6a9c6826",
   "metadata": {},
   "outputs": [],
   "source": [
    "algorithm_arn = \"arn:aws:sagemaker:us-east-1:865070037744:algorithm/implicit-bpr-36-3af996544083749e141ffc9ef7d99399\""
   ]
  },
  {
   "cell_type": "code",
   "execution_count": 2,
   "id": "b59c159c",
   "metadata": {},
   "outputs": [
    {
     "name": "stdout",
     "output_type": "stream",
     "text": [
      "\u001b[31mERROR: pip's dependency resolver does not currently take into account all the packages that are installed. This behaviour is the source of the following dependency conflicts.\r\n",
      "daal4py 2021.3.0 requires daal==2021.2.3, which is not installed.\u001b[0m\u001b[31m\r\n",
      "\u001b[0m"
     ]
    }
   ],
   "source": [
    "\n",
    "# Install necessary libraries and their required versions. Please ignore all WARNINGs and ERRORs from the pip install's below.\n",
    "import sys\n",
    "\n",
    "!{sys.executable} -m pip install --disable-pip-version-check -q pandas==1.1.5\n",
    "!{sys.executable} -m pip install --disable-pip-version-check -q numpy==1.19.5"
   ]
  },
  {
   "cell_type": "code",
   "execution_count": 3,
   "id": "a3c71e7d",
   "metadata": {},
   "outputs": [],
   "source": [
    "\n",
    "# Import necessary libraries.\n",
    "import numpy as np\n",
    "import pandas as pd\n",
    "import matplotlib.pyplot as plt\n",
    "import time\n",
    "import sagemaker\n",
    "import json\n",
    "import boto3\n",
    "\n",
    "from sagemaker import AlgorithmEstimator\n",
    "from sagemaker import get_execution_role, local, Model, utils, fw_utils, s3\n",
    "from sagemaker.predictor import json_serializer\n",
    "from sagemaker.analytics import TrainingJobAnalytics\n",
    "from sklearn.model_selection import train_test_split\n",
    "from botocore.exceptions import ClientError\n",
    "from io import StringIO\n",
    "from urllib.parse import urlparse\n",
    "from IPython.display import Markdown as md, display\n",
    "\n",
    "# Print settings\n",
    "pd.set_option(\"display.max_columns\", 500)\n",
    "pd.set_option(\"display.max_rows\", 10)\n",
    "\n",
    "# Account/Role Setup\n",
    "sagemaker_session = sagemaker.Session()\n",
    "region = sagemaker_session.boto_region_name\n",
    "role_arn = get_execution_role()\n",
    "\n",
    "boto3_sm_runtime = boto3.client(\"sagemaker-runtime\")\n",
    "boto3_sm_client = boto3.client(\"sagemaker\")\n",
    "boto_s3_client = sagemaker_session.boto_session.client(\"s3\")"
   ]
  },
  {
   "cell_type": "code",
   "execution_count": 4,
   "id": "5a3682b9",
   "metadata": {},
   "outputs": [],
   "source": [
    "# S3 Setup\n",
    "s3_bucket = sagemaker_session.default_bucket()\n",
    "s3_common_prefix = \"sagemaker/implicit-bpr\"\n",
    "s3_training_prefix = s3_common_prefix + \"/training\"\n",
    "s3_testing_prefix = s3_common_prefix + \"/test\"\n",
    "s3_training_input_prefix = s3_training_prefix + \"/data\"\n",
    "s3_testing_input_prefix = s3_testing_prefix + \"/data\"\n",
    "s3_training_jobs_prefix = s3_training_prefix + \"/jobs\"\n",
    "s3_training_data_file_name = \"cleaned_online_retail_train_data.csv\"\n",
    "s3_test_data_file_name = \"cleaned_online_retail_test_data.csv\"\n",
    "\n",
    "# S3 batch request inputs\n",
    "s3_batch_input_dir_prefix = s3_common_prefix + \"/batch-inference/jobs\"\n",
    "s3_batch_request_file_name = \"recommendation.requests\"\n",
    "\n",
    "# Construct training and transform job Name\n",
    "job_name_prefix = \"implicit-bpr-online-retail-training\"\n",
    "job_output_path = \"s3://{}/{}/{}/\".format(s3_bucket, s3_training_jobs_prefix, job_name_prefix)\n",
    "transform_job_name_prefix = \"implicit-bpr-online-retail-batch-transform\"\n",
    "\n",
    "# Define the different ML instance types\n",
    "compatible_training_instance_type = \"ml.c5.2xlarge\"\n",
    "compatible_batch_transform_instance_type = \"ml.c5.2xlarge\"\n",
    "compatible_real_time_inference_instance_type = \"ml.c5.2xlarge\"\n",
    "\n",
    "# Reference to the data directory\n",
    "DATA_DIR = \"data\"\n",
    "# Reference to the original dataset\n",
    "DATASET_DIR = DATA_DIR + \"/\" + \"dataset\"\n",
    "\n",
    "# Construct the training directory to hold the training data\n",
    "TRAINING_WORKDIR = DATA_DIR + \"/\" + \"training\"\n",
    "train_data_file = TRAINING_WORKDIR + \"/\" + s3_training_data_file_name\n",
    "\n",
    "# Construct the testing directory to hold the testing data\n",
    "TEST_WORKDIR = DATA_DIR + \"/\" + \"testing\"\n",
    "test_data_file = TEST_WORKDIR + \"/\" + s3_test_data_file_name\n",
    "\n",
    "# Construct directory to hold the batch transform request paylod\n",
    "BATCH_REQUEST_WORKDIR = DATA_DIR + \"/\" + \"batch-requests\"\n",
    "batch_request_data_file = BATCH_REQUEST_WORKDIR + \"/\" + s3_batch_request_file_name"
   ]
  },
  {
   "cell_type": "code",
   "execution_count": 5,
   "id": "f8ead790",
   "metadata": {},
   "outputs": [
    {
     "name": "stdout",
     "output_type": "stream",
     "text": [
      "mkdir: cannot create directory ‘data/dataset’: File exists\r\n",
      "mkdir: cannot create directory ‘data/training’: File exists\r\n",
      "mkdir: cannot create directory ‘data/testing’: File exists\r\n",
      "mkdir: cannot create directory ‘data/batch-requests’: File exists\r\n"
     ]
    }
   ],
   "source": [
    "# Create above directories on the Notebook which will be used to hold the data for training, testing and the batch requests payload\n",
    "!mkdir $DATASET_DIR $TRAINING_WORKDIR $TEST_WORKDIR $BATCH_REQUEST_WORKDIR"
   ]
  },
  {
   "cell_type": "code",
   "execution_count": 6,
   "id": "3b6f427d",
   "metadata": {},
   "outputs": [],
   "source": [
    "\n",
    "# This function prints the top  purchased for a given Customer ID from the original data set\n",
    "def display_original_purchase_history(original_purchase_df, customer_id, limit_top_rows=5):\n",
    "    original_purchases = original_purchase_df.loc[original_purchase_df[\"CustomerID\"] == customer_id]\n",
    "    original_purchases = original_purchases[\n",
    "        [\"CustomerID\", \"StockCode\", \"Description\", \"Quantity\", \"Invoice\", \"InvoiceDate\"]\n",
    "    ]\n",
    "    display(\n",
    "        md(\n",
    "            \"**[ Top {} Original Purchase History ] for a Customer ID : {}**\".format(\n",
    "                limit_top_rows, customer_id\n",
    "            )\n",
    "        )\n",
    "    )\n",
    "    return original_purchases.head(limit_top_rows).style.hide_index()\n",
    "\n",
    "\n",
    "# Function takes dataframe containing the inference results either from the batch transform/realtime for a given Customer ID\n",
    "# Perform a join to the product lookup table to pull the product descriptions and display the results\n",
    "def display_inference_result(inference_result_df, customer_id, inference_type):\n",
    "    inference_result_df = inference_result_df.rename(\n",
    "        columns={\"user_id\": \"CustomerID\", \"item_id\": \"StockCode\", \"score\": \"Recommendation Score\"}\n",
    "    )\n",
    "    inference_result_df[\"StockCode\"] = inference_result_df.StockCode.astype(str)\n",
    "    stock_code_desc = stock_code_desc_look_up.groupby([\"StockCode\"]).agg(lambda x: x.iloc[0])[\n",
    "        [\"Description\"]\n",
    "    ]\n",
    "    inference_result_df = inference_result_df.join(stock_code_desc, on=\"StockCode\")\n",
    "    inference_result_df = inference_result_df[\n",
    "        [\"CustomerID\", \"StockCode\", \"Description\", \"Recommendation Score\"]\n",
    "    ]\n",
    "\n",
    "    if inference_type == \"batch\":\n",
    "        inference_result_df = inference_result_df.loc[\n",
    "            inference_result_df[\"CustomerID\"] == customer_id\n",
    "        ]\n",
    "        display(\n",
    "            md(\n",
    "                \"**[ Batch Transform ] Recommended Items with the Ranking for a Customer ID : {}**\".format(\n",
    "                    customer_id\n",
    "                )\n",
    "            )\n",
    "        )\n",
    "    elif inference_type == \"realtime\":\n",
    "        display(\n",
    "            md(\n",
    "                \"**[ Real-Time Inference ] Recommended Items with the Ranking for a Customer ID : {}**\".format(\n",
    "                    customer_id\n",
    "                )\n",
    "            )\n",
    "        )\n",
    "    return display(inference_result_df.style.hide_index())\n"
   ]
  },
  {
   "cell_type": "code",
   "execution_count": 8,
   "id": "ecbc13b9",
   "metadata": {},
   "outputs": [
    {
     "data": {
      "text/html": [
       "<style  type=\"text/css\" >\n",
       "</style><table id=\"T_0942185a_8145_11ed_a40b_0aa1310358bd\" ><thead>    <tr>        <th class=\"col_heading level0 col0\" >CustomerID</th>        <th class=\"col_heading level0 col1\" >StockCode</th>        <th class=\"col_heading level0 col2\" >Description</th>        <th class=\"col_heading level0 col3\" >Price</th>        <th class=\"col_heading level0 col4\" >Quantity</th>        <th class=\"col_heading level0 col5\" >Invoice</th>        <th class=\"col_heading level0 col6\" >InvoiceDate</th>        <th class=\"col_heading level0 col7\" >Country</th>    </tr></thead><tbody>\n",
       "                <tr>\n",
       "                                <td id=\"T_0942185a_8145_11ed_a40b_0aa1310358bdrow0_col0\" class=\"data row0 col0\" >13085.000000</td>\n",
       "                        <td id=\"T_0942185a_8145_11ed_a40b_0aa1310358bdrow0_col1\" class=\"data row0 col1\" >1634011558853</td>\n",
       "                        <td id=\"T_0942185a_8145_11ed_a40b_0aa1310358bdrow0_col2\" class=\"data row0 col2\" >Furniture Set for sale</td>\n",
       "                        <td id=\"T_0942185a_8145_11ed_a40b_0aa1310358bdrow0_col3\" class=\"data row0 col3\" >6.950000</td>\n",
       "                        <td id=\"T_0942185a_8145_11ed_a40b_0aa1310358bdrow0_col4\" class=\"data row0 col4\" >12</td>\n",
       "                        <td id=\"T_0942185a_8145_11ed_a40b_0aa1310358bdrow0_col5\" class=\"data row0 col5\" >489434</td>\n",
       "                        <td id=\"T_0942185a_8145_11ed_a40b_0aa1310358bdrow0_col6\" class=\"data row0 col6\" >2009-12-01 07:45:00</td>\n",
       "                        <td id=\"T_0942185a_8145_11ed_a40b_0aa1310358bdrow0_col7\" class=\"data row0 col7\" >United Kingdom</td>\n",
       "            </tr>\n",
       "            <tr>\n",
       "                                <td id=\"T_0942185a_8145_11ed_a40b_0aa1310358bdrow1_col0\" class=\"data row1 col0\" >13085.000000</td>\n",
       "                        <td id=\"T_0942185a_8145_11ed_a40b_0aa1310358bdrow1_col1\" class=\"data row1 col1\" >1634011559093</td>\n",
       "                        <td id=\"T_0942185a_8145_11ed_a40b_0aa1310358bdrow1_col2\" class=\"data row1 col2\" >Bed Room Set for sale</td>\n",
       "                        <td id=\"T_0942185a_8145_11ed_a40b_0aa1310358bdrow1_col3\" class=\"data row1 col3\" >6.750000</td>\n",
       "                        <td id=\"T_0942185a_8145_11ed_a40b_0aa1310358bdrow1_col4\" class=\"data row1 col4\" >12</td>\n",
       "                        <td id=\"T_0942185a_8145_11ed_a40b_0aa1310358bdrow1_col5\" class=\"data row1 col5\" >489434</td>\n",
       "                        <td id=\"T_0942185a_8145_11ed_a40b_0aa1310358bdrow1_col6\" class=\"data row1 col6\" >2009-12-01 07:45:00</td>\n",
       "                        <td id=\"T_0942185a_8145_11ed_a40b_0aa1310358bdrow1_col7\" class=\"data row1 col7\" >United Kingdom</td>\n",
       "            </tr>\n",
       "            <tr>\n",
       "                                <td id=\"T_0942185a_8145_11ed_a40b_0aa1310358bdrow2_col0\" class=\"data row2 col0\" >13085.000000</td>\n",
       "                        <td id=\"T_0942185a_8145_11ed_a40b_0aa1310358bdrow2_col1\" class=\"data row2 col1\" >1634011559259</td>\n",
       "                        <td id=\"T_0942185a_8145_11ed_a40b_0aa1310358bdrow2_col2\" class=\"data row2 col2\" >6by6 Teak Box Bed with Hybrids Mattress for sale</td>\n",
       "                        <td id=\"T_0942185a_8145_11ed_a40b_0aa1310358bdrow2_col3\" class=\"data row2 col3\" >6.750000</td>\n",
       "                        <td id=\"T_0942185a_8145_11ed_a40b_0aa1310358bdrow2_col4\" class=\"data row2 col4\" >12</td>\n",
       "                        <td id=\"T_0942185a_8145_11ed_a40b_0aa1310358bdrow2_col5\" class=\"data row2 col5\" >489434</td>\n",
       "                        <td id=\"T_0942185a_8145_11ed_a40b_0aa1310358bdrow2_col6\" class=\"data row2 col6\" >2009-12-01 07:45:00</td>\n",
       "                        <td id=\"T_0942185a_8145_11ed_a40b_0aa1310358bdrow2_col7\" class=\"data row2 col7\" >United Kingdom</td>\n",
       "            </tr>\n",
       "            <tr>\n",
       "                                <td id=\"T_0942185a_8145_11ed_a40b_0aa1310358bdrow3_col0\" class=\"data row3 col0\" >13085.000000</td>\n",
       "                        <td id=\"T_0942185a_8145_11ed_a40b_0aa1310358bdrow3_col1\" class=\"data row3 col1\" >1634011559590</td>\n",
       "                        <td id=\"T_0942185a_8145_11ed_a40b_0aa1310358bdrow3_col2\" class=\"data row3 col2\" >New Spring Mattress for sale</td>\n",
       "                        <td id=\"T_0942185a_8145_11ed_a40b_0aa1310358bdrow3_col3\" class=\"data row3 col3\" >2.100000</td>\n",
       "                        <td id=\"T_0942185a_8145_11ed_a40b_0aa1310358bdrow3_col4\" class=\"data row3 col4\" >48</td>\n",
       "                        <td id=\"T_0942185a_8145_11ed_a40b_0aa1310358bdrow3_col5\" class=\"data row3 col5\" >489434</td>\n",
       "                        <td id=\"T_0942185a_8145_11ed_a40b_0aa1310358bdrow3_col6\" class=\"data row3 col6\" >2009-12-01 07:45:00</td>\n",
       "                        <td id=\"T_0942185a_8145_11ed_a40b_0aa1310358bdrow3_col7\" class=\"data row3 col7\" >United Kingdom</td>\n",
       "            </tr>\n",
       "            <tr>\n",
       "                                <td id=\"T_0942185a_8145_11ed_a40b_0aa1310358bdrow4_col0\" class=\"data row4 col0\" >13085.000000</td>\n",
       "                        <td id=\"T_0942185a_8145_11ed_a40b_0aa1310358bdrow4_col1\" class=\"data row4 col1\" >1634011559751</td>\n",
       "                        <td id=\"T_0942185a_8145_11ed_a40b_0aa1310358bdrow4_col2\" class=\"data row4 col2\" >Exclusive 6 by Teak Box Bed with Spring Mattress for sale</td>\n",
       "                        <td id=\"T_0942185a_8145_11ed_a40b_0aa1310358bdrow4_col3\" class=\"data row4 col3\" >1.250000</td>\n",
       "                        <td id=\"T_0942185a_8145_11ed_a40b_0aa1310358bdrow4_col4\" class=\"data row4 col4\" >24</td>\n",
       "                        <td id=\"T_0942185a_8145_11ed_a40b_0aa1310358bdrow4_col5\" class=\"data row4 col5\" >489434</td>\n",
       "                        <td id=\"T_0942185a_8145_11ed_a40b_0aa1310358bdrow4_col6\" class=\"data row4 col6\" >2009-12-01 07:45:00</td>\n",
       "                        <td id=\"T_0942185a_8145_11ed_a40b_0aa1310358bdrow4_col7\" class=\"data row4 col7\" >United Kingdom</td>\n",
       "            </tr>\n",
       "    </tbody></table>"
      ],
      "text/plain": [
       "<pandas.io.formats.style.Styler at 0x7f8328a1e160>"
      ]
     },
     "metadata": {},
     "output_type": "display_data"
    },
    {
     "name": "stdout",
     "output_type": "stream",
     "text": [
      "(1067371, 8)\n"
     ]
    }
   ],
   "source": [
    "# This would take some time as we would be filling close 1 millon transactions from the downloaded file and creating a dataframe\n",
    "raw_excel_data = pd.read_excel(\n",
    "    DATASET_DIR + \"/online_retail_II.xlsx\",\n",
    "    sheet_name=None, engine='openpyxl',\n",
    "    names=[\n",
    "        \"Invoice\",\n",
    "        \"StockCode\",\n",
    "        \"Description\",\n",
    "        \"Quantity\",\n",
    "        \"InvoiceDate\",\n",
    "        \"Price\",\n",
    "        \"CustomerID\",\n",
    "        \"Country\",\n",
    "    ],\n",
    ")\n",
    "\n",
    "# Since the file contains different two sheets from two years, let us combine and create a single dataframe\n",
    "online_retail_data = pd.concat(raw_excel_data, axis=0, ignore_index=True)\n",
    "\n",
    "# Print the recently created Panda Dataset's dimensionality and first five records\n",
    "online_retail_data = online_retail_data[\n",
    "    [\n",
    "        \"CustomerID\",\n",
    "        \"StockCode\",\n",
    "        \"Description\",\n",
    "        \"Price\",\n",
    "        \"Quantity\",\n",
    "        \"Invoice\",\n",
    "        \"InvoiceDate\",\n",
    "        \"Country\",\n",
    "    ]\n",
    "]\n",
    "\n",
    "display(online_retail_data.head().style.hide_index())\n",
    "print(online_retail_data.shape)\n"
   ]
  },
  {
   "cell_type": "code",
   "execution_count": 9,
   "id": "3932943c",
   "metadata": {},
   "outputs": [
    {
     "name": "stdout",
     "output_type": "stream",
     "text": [
      "[INFO]: Dataframe with the missing Customer IDs, its datatype values from the original dataset\n",
      "<class 'pandas.core.frame.DataFrame'>\n",
      "RangeIndex: 1067371 entries, 0 to 1067370\n",
      "Data columns (total 8 columns):\n",
      " #   Column       Non-Null Count    Dtype         \n",
      "---  ------       --------------    -----         \n",
      " 0   CustomerID   824364 non-null   float64       \n",
      " 1   StockCode    1067371 non-null  int64         \n",
      " 2   Description  1067371 non-null  object        \n",
      " 3   Price        1067371 non-null  float64       \n",
      " 4   Quantity     1067371 non-null  int64         \n",
      " 5   Invoice      1067371 non-null  object        \n",
      " 6   InvoiceDate  1067371 non-null  datetime64[ns]\n",
      " 7   Country      1067371 non-null  object        \n",
      "dtypes: datetime64[ns](1), float64(2), int64(2), object(3)\n",
      "memory usage: 65.1+ MB\n"
     ]
    }
   ],
   "source": [
    "# Checking data types and the missing values in the data\n",
    "print(\n",
    "    \"[INFO]: Dataframe with the missing Customer IDs, its datatype values from the original dataset\"\n",
    ")\n",
    "online_retail_data.info()\n"
   ]
  },
  {
   "cell_type": "code",
   "execution_count": 10,
   "id": "8b54ae7b",
   "metadata": {},
   "outputs": [
    {
     "name": "stdout",
     "output_type": "stream",
     "text": [
      "\n",
      "[INFO]: Dataframe post eliminating Customer IDs, its datatype values from the original dataset\n",
      "<class 'pandas.core.frame.DataFrame'>\n",
      "Int64Index: 824364 entries, 0 to 1067370\n",
      "Data columns (total 8 columns):\n",
      " #   Column       Non-Null Count   Dtype         \n",
      "---  ------       --------------   -----         \n",
      " 0   CustomerID   824364 non-null  int64         \n",
      " 1   StockCode    824364 non-null  int64         \n",
      " 2   Description  824364 non-null  object        \n",
      " 3   Price        824364 non-null  float64       \n",
      " 4   Quantity     824364 non-null  int64         \n",
      " 5   Invoice      824364 non-null  object        \n",
      " 6   InvoiceDate  824364 non-null  datetime64[ns]\n",
      " 7   Country      824364 non-null  object        \n",
      "dtypes: datetime64[ns](1), float64(1), int64(3), object(3)\n",
      "memory usage: 56.6+ MB\n",
      "\n",
      "[INFO]: The dataset now have no null rows for the CustomerID and have approximately 824364 occurrences to analyze further and train our model\n"
     ]
    }
   ],
   "source": [
    "\n",
    "# Removing the rows that do not have a Customer ID\n",
    "online_retail_data = online_retail_data.loc[pd.isnull(online_retail_data.CustomerID) == False]\n",
    "# Convert to int for customer ID\n",
    "online_retail_data[\"CustomerID\"] = online_retail_data.CustomerID.astype(int)\n",
    "# Validate data types and the missing values in the data post eliminating the missing rows\n",
    "print(\n",
    "    \"\\n[INFO]: Dataframe post eliminating Customer IDs, its datatype values from the original dataset\"\n",
    ")\n",
    "online_retail_data.info()\n",
    "\n",
    "print(\n",
    "    \"\\n[INFO]: The dataset now have no null rows for the CustomerID and have approximately 824364 occurrences to analyze further and train our model\"\n",
    ")\n",
    "\n"
   ]
  },
  {
   "cell_type": "code",
   "execution_count": 11,
   "id": "bf9431a2",
   "metadata": {},
   "outputs": [
    {
     "name": "stdout",
     "output_type": "stream",
     "text": [
      "[INFO]: Stock Code lookup table\n"
     ]
    },
    {
     "data": {
      "text/html": [
       "<style  type=\"text/css\" >\n",
       "</style><table id=\"T_228ef4f4_8145_11ed_a40b_0aa1310358bd\" ><thead>    <tr>        <th class=\"col_heading level0 col0\" >StockCode</th>        <th class=\"col_heading level0 col1\" >Description</th>    </tr></thead><tbody>\n",
       "                <tr>\n",
       "                                <td id=\"T_228ef4f4_8145_11ed_a40b_0aa1310358bdrow0_col0\" class=\"data row0 col0\" >1634011558853</td>\n",
       "                        <td id=\"T_228ef4f4_8145_11ed_a40b_0aa1310358bdrow0_col1\" class=\"data row0 col1\" >Furniture Set for sale</td>\n",
       "            </tr>\n",
       "            <tr>\n",
       "                                <td id=\"T_228ef4f4_8145_11ed_a40b_0aa1310358bdrow1_col0\" class=\"data row1 col0\" >1634011559093</td>\n",
       "                        <td id=\"T_228ef4f4_8145_11ed_a40b_0aa1310358bdrow1_col1\" class=\"data row1 col1\" >Bed Room Set for sale</td>\n",
       "            </tr>\n",
       "            <tr>\n",
       "                                <td id=\"T_228ef4f4_8145_11ed_a40b_0aa1310358bdrow2_col0\" class=\"data row2 col0\" >1634011559259</td>\n",
       "                        <td id=\"T_228ef4f4_8145_11ed_a40b_0aa1310358bdrow2_col1\" class=\"data row2 col1\" >6by6 Teak Box Bed with Hybrids Mattress for sale</td>\n",
       "            </tr>\n",
       "            <tr>\n",
       "                                <td id=\"T_228ef4f4_8145_11ed_a40b_0aa1310358bdrow3_col0\" class=\"data row3 col0\" >1634011559590</td>\n",
       "                        <td id=\"T_228ef4f4_8145_11ed_a40b_0aa1310358bdrow3_col1\" class=\"data row3 col1\" >New Spring Mattress for sale</td>\n",
       "            </tr>\n",
       "            <tr>\n",
       "                                <td id=\"T_228ef4f4_8145_11ed_a40b_0aa1310358bdrow4_col0\" class=\"data row4 col0\" >1634011559751</td>\n",
       "                        <td id=\"T_228ef4f4_8145_11ed_a40b_0aa1310358bdrow4_col1\" class=\"data row4 col1\" >Exclusive 6 by Teak Box Bed with Spring Mattress for sale</td>\n",
       "            </tr>\n",
       "    </tbody></table>"
      ],
      "text/plain": [
       "<pandas.io.formats.style.Styler at 0x7f831ee5c790>"
      ]
     },
     "metadata": {},
     "output_type": "display_data"
    },
    {
     "name": "stdout",
     "output_type": "stream",
     "text": [
      "[INFO]: Head of the final dataset post renaming the headers of the columns\n"
     ]
    },
    {
     "data": {
      "text/html": [
       "<style  type=\"text/css\" >\n",
       "</style><table id=\"T_22917256_8145_11ed_a40b_0aa1310358bd\" ><thead>    <tr>        <th class=\"col_heading level0 col0\" >user_id</th>        <th class=\"col_heading level0 col1\" >item_id</th>    </tr></thead><tbody>\n",
       "                <tr>\n",
       "                                <td id=\"T_22917256_8145_11ed_a40b_0aa1310358bdrow0_col0\" class=\"data row0 col0\" >13085</td>\n",
       "                        <td id=\"T_22917256_8145_11ed_a40b_0aa1310358bdrow0_col1\" class=\"data row0 col1\" >1634011558853</td>\n",
       "            </tr>\n",
       "            <tr>\n",
       "                                <td id=\"T_22917256_8145_11ed_a40b_0aa1310358bdrow1_col0\" class=\"data row1 col0\" >13085</td>\n",
       "                        <td id=\"T_22917256_8145_11ed_a40b_0aa1310358bdrow1_col1\" class=\"data row1 col1\" >1634011559093</td>\n",
       "            </tr>\n",
       "            <tr>\n",
       "                                <td id=\"T_22917256_8145_11ed_a40b_0aa1310358bdrow2_col0\" class=\"data row2 col0\" >13085</td>\n",
       "                        <td id=\"T_22917256_8145_11ed_a40b_0aa1310358bdrow2_col1\" class=\"data row2 col1\" >1634011559259</td>\n",
       "            </tr>\n",
       "            <tr>\n",
       "                                <td id=\"T_22917256_8145_11ed_a40b_0aa1310358bdrow3_col0\" class=\"data row3 col0\" >13085</td>\n",
       "                        <td id=\"T_22917256_8145_11ed_a40b_0aa1310358bdrow3_col1\" class=\"data row3 col1\" >1634011559590</td>\n",
       "            </tr>\n",
       "            <tr>\n",
       "                                <td id=\"T_22917256_8145_11ed_a40b_0aa1310358bdrow4_col0\" class=\"data row4 col0\" >13085</td>\n",
       "                        <td id=\"T_22917256_8145_11ed_a40b_0aa1310358bdrow4_col1\" class=\"data row4 col1\" >1634011559751</td>\n",
       "            </tr>\n",
       "    </tbody></table>"
      ],
      "text/plain": [
       "<pandas.io.formats.style.Styler at 0x7f8329699820>"
      ]
     },
     "metadata": {},
     "output_type": "display_data"
    },
    {
     "name": "stdout",
     "output_type": "stream",
     "text": [
      "[INFO] Our dataset is ultimately ready and satisfies all the required algorithm specification. We hold approximately 824364 user-item interactions to train our model.\n"
     ]
    }
   ],
   "source": [
    "# Build a lookup table for stock code information\n",
    "stock_code_desc_look_up = online_retail_data[[\"StockCode\", \"Description\"]].drop_duplicates()\n",
    "stock_code_desc_look_up[\"StockCode\"] = stock_code_desc_look_up.StockCode.astype(str)\n",
    "print(\"[INFO]: Stock Code lookup table\")\n",
    "display(stock_code_desc_look_up.head().style.hide_index())\n",
    "\n",
    "# Remove the optional columns which are not claimed for the training\n",
    "cleaned_online_retail_data = online_retail_data\n",
    "cleaned_online_retail_data = cleaned_online_retail_data[[\"CustomerID\", \"StockCode\"]]\n",
    "\n",
    "# Lastly, lets rename the columns \"CustomerID\" -> \"item_id\" and \"StockCode\" -> \"item_id\" as required by the algothirm specification\n",
    "cleaned_online_retail_data = cleaned_online_retail_data.rename(\n",
    "    columns={\"CustomerID\": \"user_id\", \"StockCode\": \"item_id\"}\n",
    ")\n",
    "print(\"[INFO]: Head of the final dataset post renaming the headers of the columns\")\n",
    "display(cleaned_online_retail_data.head().style.hide_index())\n",
    "\n",
    "print(\n",
    "    \"[INFO] Our dataset is ultimately ready and satisfies all the required algorithm specification. We hold approximately {} user-item interactions to train our model.\".format(\n",
    "        cleaned_online_retail_data.shape[0]\n",
    "    )\n",
    ")\n"
   ]
  },
  {
   "cell_type": "code",
   "execution_count": 12,
   "id": "a35d0d72",
   "metadata": {},
   "outputs": [
    {
     "name": "stdout",
     "output_type": "stream",
     "text": [
      "[INFO] The size of the training dataset is 577054, and the size of the testing dataset is 247310.\n"
     ]
    }
   ],
   "source": [
    "# Split the dataset into the training and the testing with 70% for training and 30% for testing\n",
    "train_set, test_set = train_test_split(\n",
    "    cleaned_online_retail_data, train_size=0.70, test_size=0.30, random_state=41\n",
    ")\n",
    "\n",
    "print(\n",
    "    \"[INFO] The size of the training dataset is {}, and the size of the testing dataset is {}.\".format(\n",
    "        len(train_set.index), len(test_set.index)\n",
    "    )\n",
    ")\n"
   ]
  },
  {
   "cell_type": "code",
   "execution_count": 13,
   "id": "2149826b",
   "metadata": {},
   "outputs": [
    {
     "name": "stdout",
     "output_type": "stream",
     "text": [
      "[INFO] Uploaded training data location s3://sagemaker-us-east-1-170631572115/sagemaker/implicit-bpr/training/data\n"
     ]
    }
   ],
   "source": [
    "\n",
    "train_set[[\"user_id\", \"item_id\"]].to_csv(train_data_file, index=False)\n",
    "\n",
    "# Upload the training dataset to S3\n",
    "training_input = sagemaker_session.upload_data(\n",
    "    TRAINING_WORKDIR, s3_bucket, key_prefix=s3_training_input_prefix\n",
    ")\n",
    "print(\"[INFO] Uploaded training data location \" + training_input)\n"
   ]
  },
  {
   "cell_type": "code",
   "execution_count": 14,
   "id": "d9741d3d",
   "metadata": {},
   "outputs": [
    {
     "name": "stdout",
     "output_type": "stream",
     "text": [
      "[INFO] Uploaded testing data location s3://sagemaker-us-east-1-170631572115/sagemaker/implicit-bpr/test/data\n"
     ]
    }
   ],
   "source": [
    "test_set[[\"user_id\", \"item_id\"]].to_csv(test_data_file, index=False)\n",
    "\n",
    "# Upload the test dataset to S3\n",
    "test_input = sagemaker_session.upload_data(\n",
    "    TEST_WORKDIR, s3_bucket, key_prefix=s3_testing_input_prefix\n",
    ")\n",
    "print(\"[INFO] Uploaded testing data location \" + test_input)"
   ]
  },
  {
   "cell_type": "code",
   "execution_count": 15,
   "id": "04f21f44",
   "metadata": {},
   "outputs": [
    {
     "name": "stdout",
     "output_type": "stream",
     "text": [
      "[INFO] Creating a training job with name: implicit-bpr-online-retail-training-2022-12-21-15-35-57\n",
      "2022-12-21 15:35:57 Starting - Starting the training job...\n",
      "2022-12-21 15:36:20 Starting - Preparing the instances for training............\n",
      "2022-12-21 15:38:21 Downloading - Downloading input data..\u001b[34mCUDA is available: False\u001b[0m\n",
      "\u001b[34mBeginning training\u001b[0m\n",
      "\u001b[34m/opt/ml/input/data/training data shape: (577054, 2)\u001b[0m\n",
      "\u001b[34m/opt/ml/input/data/testing data shape: (247310, 2)\u001b[0m\n",
      "\u001b[34m5942: num users\u001b[0m\n",
      "\u001b[34m4454: num items\u001b[0m\n",
      "\u001b[34mpickling 5942 users\u001b[0m\n",
      "\u001b[34mpickling 4454 items\u001b[0m\n",
      "\u001b[34mpickling (5942, 4454) user items\u001b[0m\n",
      "\u001b[34mEffective hyperparameters: {'use_gpu': False, 'factors': 100, 'iterations': 100, 'learning_rate': 0.01, 'regularization': 0.01, 'verify_negative_samples': False}\u001b[0m\n",
      "\u001b[34mTraining with 406520 user-item pairs from /opt/ml/input/data/training with sparsity 98.46397\u001b[0m\n",
      "\u001b[34m#015  0%|          | 0/100 [00:00<?, ?it/s]#015  1%|1         | 1/100 [00:00<00:03, 26.47it/s, correct=49.96%, skipped=0.00%]#015  2%|2         | 2/100 [00:00<00:03, 26.63it/s, correct=49.97%, skipped=0.00%]#015  3%|3         | 3/100 [00:00<00:03, 26.71it/s, correct=49.97%, skipped=0.00%]#015  3%|3         | 3/100 [00:00<00:03, 26.71it/s, correct=49.92%, skipped=0.00%]#015  4%|4         | 4/100 [00:00<00:03, 26.71it/s, correct=49.99%, skipped=0.00%]#015  5%|5         | 5/100 [00:00<00:03, 26.71it/s, correct=49.97%, skipped=0.00%]#015  6%|6         | 6/100 [00:00<00:03, 26.70it/s, correct=49.97%, skipped=0.00%]#015  6%|6         | 6/100 [00:00<00:03, 26.70it/s, correct=50.02%, skipped=0.00%]#015  7%|7         | 7/100 [00:00<00:03, 26.70it/s, correct=50.07%, skipped=0.00%]#015  8%|8         | 8/100 [00:00<00:03, 26.70it/s, correct=49.99%, skipped=0.00%]#015  9%|9         | 9/100 [00:00<00:03, 26.65it/s, correct=49.99%, skipped=0.00%]#015  9%|9         | 9/100 [00:00<00:03, 26.65it/s, correct=49.92%, skipped=0.00%]#015 10%|#         | 10/100 [00:00<00:03, 26.65it/s, correct=50.04%, skipped=0.00%]#015 11%|#1        | 11/100 [00:00<00:03, 26.65it/s, correct=49.91%, skipped=0.00%]#015 12%|#2        | 12/100 [00:00<00:03, 26.51it/s, correct=49.91%, skipped=0.00%]#015 12%|#2        | 12/100 [00:00<00:03, 26.51it/s, correct=50.17%, skipped=0.00%]#015 13%|#3        | 13/100 [00:00<00:03, 26.51it/s, correct=50.12%, skipped=0.00%]#015 14%|#4        | 14/100 [00:00<00:03, 26.51it/s, correct=50.19%, skipped=0.00%]#015 15%|#5        | 15/100 [00:00<00:03, 26.56it/s, correct=50.19%, skipped=0.00%]#015 15%|#5        | 15/100 [00:00<00:03, 26.56it/s, correct=50.40%, skipped=0.00%]#015 16%|#6        | 16/100 [00:00<00:03, 26.56it/s, correct=50.57%, skipped=0.00%]#015 17%|#7        | 17/100 [00:00<00:03, 26.56it/s, correct=51.03%, skipped=0.00%]#015 18%|#8        | 18/100 [00:00<00:03, 26.67it/s, correct=51.03%, skipped=0.00%]#015 18%|#8        | 18/100 [00:00<00:03, 26.67it/s, correct=51.64%, skipped=0.00%]#015 19%|#9        | 19/100 [00:00<00:03, 26.67it/s, correct=52.61%, skipped=0.00%]#015 20%|##        | 20/100 [00:00<00:02, 26.67it/s, correct=53.83%, skipped=0.00%]#015 21%|##1       | 21/100 [00:00<00:02, 26.72it/s, correct=53.83%, skipped=0.00%]#015 21%|##1       | 21/100 [00:00<00:02, 26.72it/s, correct=55.63%, skipped=0.00%]#015 22%|##2       | 22/100 [00:00<00:02, 26.72it/s, correct=57.30%, skipped=0.00%]#015 23%|##3       | 23/100 [00:00<00:02, 26.72it/s, correct=58.68%, skipped=0.00%]#015 24%|##4       | 24/100 [00:00<00:02, 26.67it/s, correct=58.68%, skipped=0.00%]#015 24%|##4       | 24/100 [00:00<00:02, 26.67it/s, correct=60.30%, skipped=0.00%]#015 25%|##5       | 25/100 [00:00<00:02, 26.67it/s, correct=61.61%, skipped=0.00%]#015 26%|##6       | 26/100 [00:00<00:02, 26.67it/s, correct=62.75%, skipped=0.00%]#015 27%|##7       | 27/100 [00:01<00:02, 26.52it/s, correct=62.75%, skipped=0.00%]#015 27%|##7       | 27/100 [00:01<00:02, 26.52it/s, correct=63.82%, skipped=0.00%]#015 28%|##8       | 28/100 [00:01<00:02, 26.52it/s, correct=64.84%, skipped=0.00%]#015 29%|##9       | 29/100 [00:01<00:02, 26.52it/s, correct=65.76%, skipped=0.00%]#015 30%|###       | 30/100 [00:01<00:02, 26.56it/s, correct=65.76%, skipped=0.00%]#015 30%|###       | 30/100 [00:01<00:02, 26.56it/s, correct=66.75%, skipped=0.00%]#015 31%|###1      | 31/100 [00:01<00:02, 26.56it/s, correct=67.49%, skipped=0.00%]#015 32%|###2      | 32/100 [00:01<00:02, 26.56it/s, correct=68.37%, skipped=0.00%]#015 33%|###3      | 33/100 [00:01<00:02, 26.57it/s, correct=68.37%, skipped=0.00%]#015 33%|###3      | 33/100 [00:01<00:02, 26.57it/s, correct=68.91%, skipped=0.00%]#015 34%|###4      | 34/100 [00:01<00:02, 26.57it/s, correct=69.68%, skipped=0.00%]#015 35%|###5      | 35/100 [00:01<00:02, 26.57it/s, correct=70.24%, skipped=0.00%]#015 36%|###6      | 36/100 [00:01<00:02, 26.60it/s, correct=70.24%, skipped=0.00%]#015 36%|###6      | 36/100 [00:01<00:02, 26.60it/s, correct=70.79%, skipped=0.00%]#015 37%|###7      | 37/100 [00:01<00:02, 26.60it/s, correct=71.33%, skipped=0.00%]#015 38%|###8      | 38/100 [00:01<00:02, 26.60it/s, correct=71.74%, skipped=0.00%]#015 39%|###9      | 39/100 [00:01<00:02, 26.40it/s, correct=71.74%, skipped=0.00%]#015 39%|###9      | 39/100 [00:01<00:02, 26.40it/s, correct=72.30%, skipped=0.00%]#015 40%|####      | 40/100 [00:01<00:02, 26.40it/s, correct=72.81%, skipped=0.00%]#015 41%|####1     | 41/100 [00:01<00:02, 26.40it/s, correct=73.07%, skipped=0.00%]#015 42%|####2     | 42/100 [00:01<00:02, 26.01it/s, correct=73.07%, skipped=0.00%]#015 42%|####2     | 42/100 [00:01<00:02, 26.01it/s, correct=73.81%, skipped=0.00%]#015 43%|####3     | 43/100 [00:01<00:02, 26.01it/s, correct=74.14%, skipped=0.00%]#015 44%|####4     | 44/100 [00:01<00:02, 26.01it/s, correct=74.55%, skipped=0.00%]#015 45%|####5     | 45/100 [00:01<00:02, 26.00it/s, correct=74.55%, skipped=0.00%]#015 45%|####5     | 45/100 [00:01<00:02, 26.00it/s, correct=74.86%, skipped=0.00%]#015 46%|####6     | 46/100 [00:01<00:02, 26.00it/s, correct=75.34%, skipped=0.00%]#015 47%|####6     | 47/100 [00:01<00:02, 26.00it/s, correct=75.78%, skipped=0.00%]#015 48%|####8     | 48/100 [00:01<00:02, 25.61it/s, correct=75.78%, skipped=0.00%]#015 48%|####8     | 48/100 [00:01<00:02, 25.61it/s, correct=76.23%, skipped=0.00%]#015 49%|####9     | 49/100 [00:01<00:01, 25.61it/s, correct=76.41%, skipped=0.00%]#015 50%|#####     | 50/100 [00:01<00:01, 25.61it/s, correct=76.82%, skipped=0.00%]#015 51%|#####1    | 51/100 [00:01<00:01, 25.57it/s, correct=76.82%, skipped=0.00%]#015 51%|#####1    | 51/100 [00:01<00:01, 25.57it/s, correct=77.20%, skipped=0.00%]#015 52%|#####2    | 52/100 [00:01<00:01, 25.57it/s, correct=77.49%, skipped=0.00%]#015 53%|#####3    | 53/100 [00:02<00:01, 25.57it/s, correct=77.79%, skipped=0.00%]#015 54%|#####4    | 54/100 [00:02<00:01, 25.50it/s, correct=77.79%, skipped=0.00%]#015 54%|#####4    | 54/100 [00:02<00:01, 25.50it/s, correct=78.19%, skipped=0.00%]#015 55%|#####5    | 55/100 [00:02<00:01, 25.50it/s, correct=78.50%, skipped=0.00%]#015 56%|#####6    | 56/100 [00:02<00:01, 25.50it/s, correct=78.91%, skipped=0.00%]#015 57%|#####6    | 57/100 [00:02<00:01, 25.61it/s, correct=78.91%, skipped=0.00%]#015 57%|#####6    | 57/100 [00:02<00:01, 25.61it/s, correct=79.19%, skipped=0.00%]#015 58%|#####8    | 58/100 [00:02<00:01, 25.61it/s, correct=79.55%, skipped=0.00%]#015 59%|#####8    | 59/100 [00:02<00:01, 25.61it/s, correct=79.77%, skipped=0.00%]#015 60%|######    | 60/100 [00:02<00:01, 25.63it/s, correct=79.77%, skipped=0.00%]#015 60%|######    | 60/100 [00:02<00:01, 25.63it/s, correct=80.02%, skipped=0.00%]#015 61%|######1   | 61/100 [00:02<00:01, 25.63it/s, correct=80.39%, skipped=0.00%]#015 62%|######2   | 62/100 [00:02<00:01, 25.63it/s, correct=80.68%, skipped=0.00%]#015 63%|######3   | 63/100 [00:02<00:01, 25.63it/s, correct=80.68%, skipped=0.00%]#015 63%|######3   | 63/100 [00:02<00:01, 25.63it/s, correct=81.07%, skipped=0.00%]#015 64%|######4   | 64/100 [00:02<00:01, 25.63it/s, correct=81.28%, skipped=0.00%]#015 65%|######5   | 65/100 [00:02<00:01, 25.63it/s, correct=81.66%, skipped=0.00%]#015 66%|######6   | 66/100 [00:02<00:01, 25.86it/s, correct=81.66%, skipped=0.00%]#015 66%|######6   | 66/100 [00:02<00:01, 25.86it/s, correct=81.88%, skipped=0.00%]#015 67%|######7   | 67/100 [00:02<00:01, 25.86it/s, correct=82.22%, skipped=0.00%]#015 68%|######8   | 68/100 [00:02<00:01, 25.86it/s, correct=82.46%, skipped=0.00%]#015 69%|######9   | 69/100 [00:02<00:01, 26.18it/s, correct=82.46%, skipped=0.00%]#015 69%|######9   | 69/100 [00:02<00:01, 26.18it/s, correct=82.70%, skipped=0.00%]#015 70%|#######   | 70/100 [00:02<00:01, 26.18it/s, correct=83.00%, skipped=0.00%]#015 71%|#######1  | 71/100 [00:02<00:01, 26.18it/s, correct=83.23%, skipped=0.00%]#015 72%|#######2  | 72/100 [00:02<00:01, 26.46it/s, correct=83.23%, skipped=0.00%]#015 72%|#######2  | 72/100 [00:02<00:01, 26.46it/s, correct=83.63%, skipped=0.00%]#015 73%|#######3  | 73/100 [00:02<00:01, 26.46it/s, correct=83.78%, skipped=0.00%]#015 74%|#######4  | 74/100 [00:02<00:00, 26.46it/s, correct=83.99%, skipped=0.00%]#015 75%|#######5  | 75/100 [00:02<00:00, 26.66it/s, correct=83.99%, skipped=0.00%]#015 75%|#######5  | 75/100 [00:02<00:00, 26.66it/s, correct=84.26%, skipped=0.00%]#015 76%|#######6  | 76/100 [00:02<00:00, 26.66it/s, correct=84.46%, skipped=0.00%]#015 77%|#######7  | 77/100 [00:02<00:00, 26.66it/s, correct=84.77%, skipped=0.00%]#015 78%|#######8  | 78/100 [00:02<00:00, 26.74it/s, correct=84.77%, skipped=0.00%]#015 78%|#######8  | 78/100 [00:02<00:00, 26.74it/s, correct=84.82%, skipped=0.00%]#015 79%|#######9  | 79/100 [00:03<00:00, 26.74it/s, correct=85.06%, skipped=0.00%]#015 80%|########  | 80/100 [00:03<00:00, 26.74it/s, correct=85.33%, skipped=0.00%]#015 81%|########1 | 81/100 [00:03<00:00, 26.79it/s, correct=85.33%, skipped=0.00%]#015 81%|########1 | 81/100 [00:03<00:00, 26.79it/s, correct=85.51%, skipped=0.00%]#015 82%|########2 | 82/100 [00:03<00:00, 26.79it/s, correct=85.78%, skipped=0.00%]#015 83%|########2 | 83/100 [00:03<00:00, 26.79it/s, correct=85.86%, skipped=0.00%]#015 84%|########4 | 84/100 [00:03<00:00, 26.84it/s, correct=85.86%, skipped=0.00%]#015 84%|########4 | 84/100 [00:03<00:00, 26.84it/s, correct=86.24%, skipped=0.00%]#015 85%|########5 | 85/100 [00:03<00:00, 26.84it/s, correct=86.18%, skipped=0.00%]#015 86%|########6 | 86/100 [00:03<00:00, 26.84it/s, correct=86.36%, skipped=0.00%]#015 87%|########7 | 87/100 [00:03<00:00, 26.85it/s, correct=86.36%, skipped=0.00%]#015 87%|########7 | 87/100 [00:03<00:00, 26.85it/s, correct=86.53%, skipped=0.00%]#015 88%|########8 | 88/100 [00:03<00:00, 26.85it/s, correct=86.81%, skipped=0.00%]#015 89%|########9 | 89/100 [00:03<00:00, 26.85it/s, correct=86.93%, skipped=0.00%]#015 90%|######### | 90/100 [00:03<00:00, 26.80it/s, correct=86.93%, skipped=0.00%]#015 90%|######### | 90/100 [00:03<00:00, 26.80it/s, correct=87.08%, skipped=0.00%]#015 91%|#########1| 91/100 [00:03<00:00, 26.80it/s, correct=87.23%, skipped=0.00%]#015 92%|#########2| 92/100 [00:03<00:00, 26.80it/s, correct=87.25%, skipped=0.00%]#015 93%|#########3| 93/100 [00:03<00:00, 26.77it/s, correct=87.25%, skipped=0.00%]#015 93%|#########3| 93/100 [00:03<00:00, 26.77it/s, correct=87.48%, skipped=0.00%]#015 94%|#########3| 94/100 [00:03<00:00, 26.77it/s, correct=87.68%, skipped=0.00%]#015 95%|#########5| 95/100 [00:03<00:00, 26.77it/s, correct=87.82%, skipped=0.00%]#015 96%|#########6| 96/100 [00:03<00:00, 26.87it/s, correct=87.82%, skipped=0.00%]#015 96%|#########6| 96/100 [00:03<00:00, 26.87it/s, correct=87.94%, skipped=0.00%]#015 97%|#########7| 97/100 [00:03<00:00, 26.87it/s, correct=88.13%, skipped=0.00%]#015 98%|#########8| 98/100 [00:03<00:00, 26.87it/s, correct=88.28%, skipped=0.00%]#015 99%|#########9| 99/100 [00:03<00:00, 26.73it/s, correct=88.28%, skipped=0.00%]#015 99%|#########9| 99/100 [00:03<00:00, 26.73it/s, correct=88.34%, skipped=0.00%]#015100%|##########| 100/100 [00:03<00:00, 26.73it/s, correct=88.48%, skipped=0.00%]#015100%|##########| 100/100 [00:03<00:00, 26.38it/s, correct=88.48%, skipped=0.00%]\u001b[0m\n",
      "\u001b[34mSaving model to /opt/ml/model/model.pkl\u001b[0m\n",
      "\u001b[34mPredicting 5752 users\u001b[0m\n",
      "\u001b[34mMade 5752 predictions\u001b[0m\n",
      "\u001b[34mComputing precision at k\u001b[0m\n",
      "\u001b[34mAverage precision at k(10): 0.07309549083631804\u001b[0m\n",
      "\n",
      "2022-12-21 15:38:55 Training - Training image download completed. Training in progress.\n",
      "2022-12-21 15:38:55 Uploading - Uploading generated training model\n",
      "2022-12-21 15:38:55 Completed - Training job completed\n",
      "Training seconds: 47\n",
      "Billable seconds: 47\n",
      "[INFO] Training the model has been completed sucessfully.\n",
      "[INFO] Model artifact can be found at: s3://sagemaker-us-east-1-170631572115/sagemaker/implicit-bpr/training/jobs/implicit-bpr-online-retail-training/implicit-bpr-online-retail-training-2022-12-21-15-35-57\n"
     ]
    }
   ],
   "source": [
    "timestamp = time.strftime(\"-%Y-%m-%d-%H-%M-%S\", time.gmtime())\n",
    "job_name = job_name_prefix + timestamp\n",
    "\n",
    "print(\"[INFO] Creating a training job with name: \" + job_name)\n",
    "\n",
    "# Configure an Estimator (no training happens yet)\n",
    "estimator = AlgorithmEstimator(\n",
    "    algorithm_arn=algorithm_arn,\n",
    "    role=role_arn,\n",
    "    instance_count=1,\n",
    "    instance_type=compatible_training_instance_type,\n",
    "    sagemaker_session=sagemaker_session,\n",
    "    input_mode=\"File\",\n",
    "    output_path=job_output_path,\n",
    "    base_job_name=job_name_prefix,\n",
    ")\n",
    "\n",
    "inputs = {\"training\": training_input, \"testing\": test_input}\n",
    "# Starts a SageMaker training job and waits until completion\n",
    "estimator.fit(inputs, logs=\"Training\", job_name=job_name)\n",
    "\n",
    "print(\"[INFO] Training the model has been completed sucessfully.\")\n",
    "print(\"[INFO] Model artifact can be found at: \" + estimator.output_path + job_name)\n"
   ]
  },
  {
   "cell_type": "code",
   "execution_count": 16,
   "id": "677c1ee2",
   "metadata": {},
   "outputs": [
    {
     "data": {
      "image/png": "[encoded data removed]",
      "text/plain": [
       "<Figure size 720x360 with 1 Axes>"
      ]
     },
     "metadata": {
      "needs_background": "light"
     },
     "output_type": "display_data"
    }
   ],
   "source": [
    "\n",
    "# Training Job Name\n",
    "training_job_name = job_name\n",
    "\n",
    "# Metric name as per the algorithm specifications\n",
    "metric_name = \"p@k(10)\"\n",
    "# Retrieve the Training job details and build a plot\n",
    "metrics_dataframe = TrainingJobAnalytics(\n",
    "    training_job_name=training_job_name, metric_names=[metric_name]\n",
    ").dataframe()\n",
    "plt = metrics_dataframe.plot(\n",
    "    title=\"Precision at 10 in a top-10 Recommendation\",\n",
    "    grid=True,\n",
    "    kind=\"line\",\n",
    "    figsize=(10, 5),\n",
    "    x=\"timestamp\",\n",
    "    y=\"value\",\n",
    "    style=\"b.\",\n",
    "    legend=False,\n",
    ")\n",
    "plt.set_ylabel(\"Average precision at k(10)\");\n"
   ]
  },
  {
   "cell_type": "code",
   "execution_count": 17,
   "id": "00a51990",
   "metadata": {},
   "outputs": [
    {
     "data": {
      "text/markdown": [
       "**[ Top 10 Original Purchase History ] for a Customer ID : 13085**"
      ],
      "text/plain": [
       "<IPython.core.display.Markdown object>"
      ]
     },
     "metadata": {},
     "output_type": "display_data"
    },
    {
     "data": {
      "text/html": [
       "<style  type=\"text/css\" >\n",
       "</style><table id=\"T_b3d11ba4_8145_11ed_a40b_0aa1310358bd\" ><thead>    <tr>        <th class=\"col_heading level0 col0\" >CustomerID</th>        <th class=\"col_heading level0 col1\" >StockCode</th>        <th class=\"col_heading level0 col2\" >Description</th>        <th class=\"col_heading level0 col3\" >Quantity</th>        <th class=\"col_heading level0 col4\" >Invoice</th>        <th class=\"col_heading level0 col5\" >InvoiceDate</th>    </tr></thead><tbody>\n",
       "                <tr>\n",
       "                                <td id=\"T_b3d11ba4_8145_11ed_a40b_0aa1310358bdrow0_col0\" class=\"data row0 col0\" >13085</td>\n",
       "                        <td id=\"T_b3d11ba4_8145_11ed_a40b_0aa1310358bdrow0_col1\" class=\"data row0 col1\" >1634011558853</td>\n",
       "                        <td id=\"T_b3d11ba4_8145_11ed_a40b_0aa1310358bdrow0_col2\" class=\"data row0 col2\" >Furniture Set for sale</td>\n",
       "                        <td id=\"T_b3d11ba4_8145_11ed_a40b_0aa1310358bdrow0_col3\" class=\"data row0 col3\" >12</td>\n",
       "                        <td id=\"T_b3d11ba4_8145_11ed_a40b_0aa1310358bdrow0_col4\" class=\"data row0 col4\" >489434</td>\n",
       "                        <td id=\"T_b3d11ba4_8145_11ed_a40b_0aa1310358bdrow0_col5\" class=\"data row0 col5\" >2009-12-01 07:45:00</td>\n",
       "            </tr>\n",
       "            <tr>\n",
       "                                <td id=\"T_b3d11ba4_8145_11ed_a40b_0aa1310358bdrow1_col0\" class=\"data row1 col0\" >13085</td>\n",
       "                        <td id=\"T_b3d11ba4_8145_11ed_a40b_0aa1310358bdrow1_col1\" class=\"data row1 col1\" >1634011559093</td>\n",
       "                        <td id=\"T_b3d11ba4_8145_11ed_a40b_0aa1310358bdrow1_col2\" class=\"data row1 col2\" >Bed Room Set for sale</td>\n",
       "                        <td id=\"T_b3d11ba4_8145_11ed_a40b_0aa1310358bdrow1_col3\" class=\"data row1 col3\" >12</td>\n",
       "                        <td id=\"T_b3d11ba4_8145_11ed_a40b_0aa1310358bdrow1_col4\" class=\"data row1 col4\" >489434</td>\n",
       "                        <td id=\"T_b3d11ba4_8145_11ed_a40b_0aa1310358bdrow1_col5\" class=\"data row1 col5\" >2009-12-01 07:45:00</td>\n",
       "            </tr>\n",
       "            <tr>\n",
       "                                <td id=\"T_b3d11ba4_8145_11ed_a40b_0aa1310358bdrow2_col0\" class=\"data row2 col0\" >13085</td>\n",
       "                        <td id=\"T_b3d11ba4_8145_11ed_a40b_0aa1310358bdrow2_col1\" class=\"data row2 col1\" >1634011559259</td>\n",
       "                        <td id=\"T_b3d11ba4_8145_11ed_a40b_0aa1310358bdrow2_col2\" class=\"data row2 col2\" >6by6 Teak Box Bed with Hybrids Mattress for sale</td>\n",
       "                        <td id=\"T_b3d11ba4_8145_11ed_a40b_0aa1310358bdrow2_col3\" class=\"data row2 col3\" >12</td>\n",
       "                        <td id=\"T_b3d11ba4_8145_11ed_a40b_0aa1310358bdrow2_col4\" class=\"data row2 col4\" >489434</td>\n",
       "                        <td id=\"T_b3d11ba4_8145_11ed_a40b_0aa1310358bdrow2_col5\" class=\"data row2 col5\" >2009-12-01 07:45:00</td>\n",
       "            </tr>\n",
       "            <tr>\n",
       "                                <td id=\"T_b3d11ba4_8145_11ed_a40b_0aa1310358bdrow3_col0\" class=\"data row3 col0\" >13085</td>\n",
       "                        <td id=\"T_b3d11ba4_8145_11ed_a40b_0aa1310358bdrow3_col1\" class=\"data row3 col1\" >1634011559590</td>\n",
       "                        <td id=\"T_b3d11ba4_8145_11ed_a40b_0aa1310358bdrow3_col2\" class=\"data row3 col2\" >New Spring Mattress for sale</td>\n",
       "                        <td id=\"T_b3d11ba4_8145_11ed_a40b_0aa1310358bdrow3_col3\" class=\"data row3 col3\" >48</td>\n",
       "                        <td id=\"T_b3d11ba4_8145_11ed_a40b_0aa1310358bdrow3_col4\" class=\"data row3 col4\" >489434</td>\n",
       "                        <td id=\"T_b3d11ba4_8145_11ed_a40b_0aa1310358bdrow3_col5\" class=\"data row3 col5\" >2009-12-01 07:45:00</td>\n",
       "            </tr>\n",
       "            <tr>\n",
       "                                <td id=\"T_b3d11ba4_8145_11ed_a40b_0aa1310358bdrow4_col0\" class=\"data row4 col0\" >13085</td>\n",
       "                        <td id=\"T_b3d11ba4_8145_11ed_a40b_0aa1310358bdrow4_col1\" class=\"data row4 col1\" >1634011559751</td>\n",
       "                        <td id=\"T_b3d11ba4_8145_11ed_a40b_0aa1310358bdrow4_col2\" class=\"data row4 col2\" >Exclusive 6 by Teak Box Bed with Spring Mattress for sale</td>\n",
       "                        <td id=\"T_b3d11ba4_8145_11ed_a40b_0aa1310358bdrow4_col3\" class=\"data row4 col3\" >24</td>\n",
       "                        <td id=\"T_b3d11ba4_8145_11ed_a40b_0aa1310358bdrow4_col4\" class=\"data row4 col4\" >489434</td>\n",
       "                        <td id=\"T_b3d11ba4_8145_11ed_a40b_0aa1310358bdrow4_col5\" class=\"data row4 col5\" >2009-12-01 07:45:00</td>\n",
       "            </tr>\n",
       "            <tr>\n",
       "                                <td id=\"T_b3d11ba4_8145_11ed_a40b_0aa1310358bdrow5_col0\" class=\"data row5 col0\" >13085</td>\n",
       "                        <td id=\"T_b3d11ba4_8145_11ed_a40b_0aa1310358bdrow5_col1\" class=\"data row5 col1\" >1634011559907</td>\n",
       "                        <td id=\"T_b3d11ba4_8145_11ed_a40b_0aa1310358bdrow5_col2\" class=\"data row5 col2\" >Tv Stand for sale</td>\n",
       "                        <td id=\"T_b3d11ba4_8145_11ed_a40b_0aa1310358bdrow5_col3\" class=\"data row5 col3\" >24</td>\n",
       "                        <td id=\"T_b3d11ba4_8145_11ed_a40b_0aa1310358bdrow5_col4\" class=\"data row5 col4\" >489434</td>\n",
       "                        <td id=\"T_b3d11ba4_8145_11ed_a40b_0aa1310358bdrow5_col5\" class=\"data row5 col5\" >2009-12-01 07:45:00</td>\n",
       "            </tr>\n",
       "            <tr>\n",
       "                                <td id=\"T_b3d11ba4_8145_11ed_a40b_0aa1310358bdrow6_col0\" class=\"data row6 col0\" >13085</td>\n",
       "                        <td id=\"T_b3d11ba4_8145_11ed_a40b_0aa1310358bdrow6_col1\" class=\"data row6 col1\" >1634011560082</td>\n",
       "                        <td id=\"T_b3d11ba4_8145_11ed_a40b_0aa1310358bdrow6_col2\" class=\"data row6 col2\" >Exclusive 6 by 5 Teak Box Bed with Spring Mattress for sale</td>\n",
       "                        <td id=\"T_b3d11ba4_8145_11ed_a40b_0aa1310358bdrow6_col3\" class=\"data row6 col3\" >24</td>\n",
       "                        <td id=\"T_b3d11ba4_8145_11ed_a40b_0aa1310358bdrow6_col4\" class=\"data row6 col4\" >489434</td>\n",
       "                        <td id=\"T_b3d11ba4_8145_11ed_a40b_0aa1310358bdrow6_col5\" class=\"data row6 col5\" >2009-12-01 07:45:00</td>\n",
       "            </tr>\n",
       "            <tr>\n",
       "                                <td id=\"T_b3d11ba4_8145_11ed_a40b_0aa1310358bdrow7_col0\" class=\"data row7 col0\" >13085</td>\n",
       "                        <td id=\"T_b3d11ba4_8145_11ed_a40b_0aa1310358bdrow7_col1\" class=\"data row7 col1\" >1634011560266</td>\n",
       "                        <td id=\"T_b3d11ba4_8145_11ed_a40b_0aa1310358bdrow7_col2\" class=\"data row7 col2\" >New Phoenix 6 Pc Drawer Set for sale</td>\n",
       "                        <td id=\"T_b3d11ba4_8145_11ed_a40b_0aa1310358bdrow7_col3\" class=\"data row7 col3\" >10</td>\n",
       "                        <td id=\"T_b3d11ba4_8145_11ed_a40b_0aa1310358bdrow7_col4\" class=\"data row7 col4\" >489434</td>\n",
       "                        <td id=\"T_b3d11ba4_8145_11ed_a40b_0aa1310358bdrow7_col5\" class=\"data row7 col5\" >2009-12-01 07:45:00</td>\n",
       "            </tr>\n",
       "            <tr>\n",
       "                                <td id=\"T_b3d11ba4_8145_11ed_a40b_0aa1310358bdrow8_col0\" class=\"data row8 col0\" >13085</td>\n",
       "                        <td id=\"T_b3d11ba4_8145_11ed_a40b_0aa1310358bdrow8_col1\" class=\"data row8 col1\" >1634011560797</td>\n",
       "                        <td id=\"T_b3d11ba4_8145_11ed_a40b_0aa1310358bdrow8_col2\" class=\"data row8 col2\" >Exclusive 6 by Teak Box Bed for sale</td>\n",
       "                        <td id=\"T_b3d11ba4_8145_11ed_a40b_0aa1310358bdrow8_col3\" class=\"data row8 col3\" >12</td>\n",
       "                        <td id=\"T_b3d11ba4_8145_11ed_a40b_0aa1310358bdrow8_col4\" class=\"data row8 col4\" >489435</td>\n",
       "                        <td id=\"T_b3d11ba4_8145_11ed_a40b_0aa1310358bdrow8_col5\" class=\"data row8 col5\" >2009-12-01 07:46:00</td>\n",
       "            </tr>\n",
       "            <tr>\n",
       "                                <td id=\"T_b3d11ba4_8145_11ed_a40b_0aa1310358bdrow9_col0\" class=\"data row9 col0\" >13085</td>\n",
       "                        <td id=\"T_b3d11ba4_8145_11ed_a40b_0aa1310358bdrow9_col1\" class=\"data row9 col1\" >1634011561104</td>\n",
       "                        <td id=\"T_b3d11ba4_8145_11ed_a40b_0aa1310358bdrow9_col2\" class=\"data row9 col2\" >Tv Stand for sale</td>\n",
       "                        <td id=\"T_b3d11ba4_8145_11ed_a40b_0aa1310358bdrow9_col3\" class=\"data row9 col3\" >12</td>\n",
       "                        <td id=\"T_b3d11ba4_8145_11ed_a40b_0aa1310358bdrow9_col4\" class=\"data row9 col4\" >489435</td>\n",
       "                        <td id=\"T_b3d11ba4_8145_11ed_a40b_0aa1310358bdrow9_col5\" class=\"data row9 col5\" >2009-12-01 07:46:00</td>\n",
       "            </tr>\n",
       "    </tbody></table>"
      ],
      "text/plain": [
       "<pandas.io.formats.style.Styler at 0x7f83274cc310>"
      ]
     },
     "execution_count": 17,
     "metadata": {},
     "output_type": "execute_result"
    }
   ],
   "source": [
    "\n",
    "# Take Customer ID: 13085 for our analysis from the original dataset\n",
    "sample_customer_id = 13085\n",
    "# Let us present the top 10 original purchase history for this customer.\n",
    "display_original_purchase_history(online_retail_data, sample_customer_id, 10)"
   ]
  },
  {
   "cell_type": "code",
   "execution_count": 18,
   "id": "254d2ae2",
   "metadata": {},
   "outputs": [],
   "source": [
    "\n",
    "# Build a local work dir where you would create the batch transform request file in a JSON format\n",
    "# Populate the requested file with the preceding example users.\n",
    "with open(batch_request_data_file, \"w\") as outfile:\n",
    "    json.dump({\"user_id\": str(sample_customer_id), \"top_n\": \"10\"}, outfile)\n",
    "    outfile.write(\"\\n\")\n",
    "outfile.close()\n",
    "\n"
   ]
  },
  {
   "cell_type": "code",
   "execution_count": 19,
   "id": "f7d59e5d",
   "metadata": {},
   "outputs": [
    {
     "name": "stdout",
     "output_type": "stream",
     "text": [
      "{\"user_id\": \"13085\", \"top_n\": \"10\"}\r\n"
     ]
    }
   ],
   "source": [
    "# Print the head of the payload file\n",
    "!head {batch_request_data_file}\n"
   ]
  },
  {
   "cell_type": "code",
   "execution_count": 20,
   "id": "07b86301",
   "metadata": {},
   "outputs": [
    {
     "name": "stdout",
     "output_type": "stream",
     "text": [
      "[INFO] S3 batch requests data location s3://sagemaker-us-east-1-170631572115/sagemaker/implicit-bpr/batch-inference/jobs/implicit-bpr-online-retail-batch-transform-2022-12-21-15-39-54/recommendation.requests\n"
     ]
    }
   ],
   "source": [
    "# Build Transform Job Name\n",
    "timestamp = time.strftime(\"-%Y-%m-%d-%H-%M-%S\", time.gmtime())\n",
    "transform_job_name = transform_job_name_prefix + timestamp\n",
    "transform_job_inference_path = \"{}/{}\".format(s3_batch_input_dir_prefix, transform_job_name)\n",
    "transform_job_inference_output = \"s3://\" + s3_bucket + \"/\" + transform_job_inference_path\n",
    "\n",
    "# Upload the batch transform request JSON file dataset to Amazon S3 buket\n",
    "uploaded_batch_inference_request = sagemaker_session.upload_data(\n",
    "    batch_request_data_file, s3_bucket, key_prefix=transform_job_inference_path\n",
    ")\n",
    "print(\"[INFO] S3 batch requests data location \" + uploaded_batch_inference_request)\n"
   ]
  },
  {
   "cell_type": "code",
   "execution_count": 21,
   "id": "633b2840",
   "metadata": {},
   "outputs": [
    {
     "name": "stdout",
     "output_type": "stream",
     "text": [
      "[INFO] Starting the batch transform job: implicit-bpr-online-retail-batch-transform-2022-12-21-15-39-54\n",
      "...........\n",
      ".......................................................!\n",
      ".[INFO] The batch transform job has been completed, and the output has been saved to : s3://sagemaker-us-east-1-170631572115/sagemaker/implicit-bpr/batch-inference/jobs/implicit-bpr-online-retail-batch-transform-2022-12-21-15-39-54\n"
     ]
    }
   ],
   "source": [
    "\n",
    "# Build the Transformer Object with the parameters\n",
    "print(\"[INFO] Starting the batch transform job: \" + transform_job_name)\n",
    "transformer = estimator.transformer(\n",
    "    instance_count=1,\n",
    "    instance_type= compatible_batch_transform_instance_type,\n",
    "    strategy=\"SingleRecord\",\n",
    "    output_path=transform_job_inference_output,\n",
    "    assemble_with=\"Line\",\n",
    "    accept=\"text/csv\",\n",
    ")\n",
    "# Strat the Transformer Job\n",
    "transformer.transform(\n",
    "    data=uploaded_batch_inference_request,\n",
    "    job_name=transform_job_name,\n",
    "    content_type=\"application/json\",\n",
    "    compression_type=\"None\",\n",
    "    split_type=\"Line\",\n",
    "    logs=False,\n",
    ")\n",
    "\n",
    "# Wait until the job completes\n",
    "transformer.wait()\n",
    "print(\n",
    "    \"[INFO] The batch transform job has been completed, and the output has been saved to : \"\n",
    "    + transformer.output_path\n",
    ")\n"
   ]
  },
  {
   "cell_type": "code",
   "execution_count": 22,
   "id": "78fcbd32",
   "metadata": {},
   "outputs": [
    {
     "name": "stdout",
     "output_type": "stream",
     "text": [
      "13085,1634015961949,2.940277338027954\n",
      "13085,1634015998554,2.6612768173217773\n",
      "13085,1634011559907,2.6541554927825928\n",
      "13085,1634015961774,2.6007392406463623\n",
      "13085,1634012154975,2.5661213397979736\n",
      "13085,1634013463077,2.378998279571533\n",
      "13085,1634015260023,2.3211793899536133\n",
      "13085,1634020142256,2.2802462577819824\n",
      "13085,1634021066414,2.270092487335205\n",
      "13085,1634016081875,2.248026132583618\n",
      "\n"
     ]
    }
   ],
   "source": [
    "parsed_url = urlparse(transformer.output_path)\n",
    "bucket_name = parsed_url.netloc\n",
    "file_key = \"{}/{}.out\".format(parsed_url.path[1:], s3_batch_request_file_name)\n",
    "\n",
    "\n",
    "response = boto_s3_client.get_object(Bucket=sagemaker_session.default_bucket(), Key=file_key)\n",
    "s3_response_bytes = response[\"Body\"].read().decode(\"utf-8\")\n",
    "\n",
    "print(s3_response_bytes)"
   ]
  },
  {
   "cell_type": "code",
   "execution_count": 23,
   "id": "c8eef9bb",
   "metadata": {},
   "outputs": [
    {
     "data": {
      "text/markdown": [
       "**[ Batch Transform ] Recommended Items with the Ranking for a Customer ID : 13085**"
      ],
      "text/plain": [
       "<IPython.core.display.Markdown object>"
      ]
     },
     "metadata": {},
     "output_type": "display_data"
    },
    {
     "data": {
      "text/html": [
       "<style  type=\"text/css\" >\n",
       "</style><table id=\"T_97e66740_8146_11ed_a40b_0aa1310358bd\" ><thead>    <tr>        <th class=\"col_heading level0 col0\" >CustomerID</th>        <th class=\"col_heading level0 col1\" >StockCode</th>        <th class=\"col_heading level0 col2\" >Description</th>        <th class=\"col_heading level0 col3\" >Recommendation Score</th>    </tr></thead><tbody>\n",
       "                <tr>\n",
       "                                <td id=\"T_97e66740_8146_11ed_a40b_0aa1310358bdrow0_col0\" class=\"data row0 col0\" >13085</td>\n",
       "                        <td id=\"T_97e66740_8146_11ed_a40b_0aa1310358bdrow0_col1\" class=\"data row0 col1\" >1634015961949</td>\n",
       "                        <td id=\"T_97e66740_8146_11ed_a40b_0aa1310358bdrow0_col2\" class=\"data row0 col2\" >New 4x2 Dark Office Table for sale</td>\n",
       "                        <td id=\"T_97e66740_8146_11ed_a40b_0aa1310358bdrow0_col3\" class=\"data row0 col3\" >2.940277</td>\n",
       "            </tr>\n",
       "            <tr>\n",
       "                                <td id=\"T_97e66740_8146_11ed_a40b_0aa1310358bdrow1_col0\" class=\"data row1 col0\" >13085</td>\n",
       "                        <td id=\"T_97e66740_8146_11ed_a40b_0aa1310358bdrow1_col1\" class=\"data row1 col1\" >1634015998554</td>\n",
       "                        <td id=\"T_97e66740_8146_11ed_a40b_0aa1310358bdrow1_col2\" class=\"data row1 col2\" >Luxury Sofa Set for sale</td>\n",
       "                        <td id=\"T_97e66740_8146_11ed_a40b_0aa1310358bdrow1_col3\" class=\"data row1 col3\" >2.661277</td>\n",
       "            </tr>\n",
       "            <tr>\n",
       "                                <td id=\"T_97e66740_8146_11ed_a40b_0aa1310358bdrow2_col0\" class=\"data row2 col0\" >13085</td>\n",
       "                        <td id=\"T_97e66740_8146_11ed_a40b_0aa1310358bdrow2_col1\" class=\"data row2 col1\" >1634011559907</td>\n",
       "                        <td id=\"T_97e66740_8146_11ed_a40b_0aa1310358bdrow2_col2\" class=\"data row2 col2\" >Tv Stand for sale</td>\n",
       "                        <td id=\"T_97e66740_8146_11ed_a40b_0aa1310358bdrow2_col3\" class=\"data row2 col3\" >2.654155</td>\n",
       "            </tr>\n",
       "            <tr>\n",
       "                                <td id=\"T_97e66740_8146_11ed_a40b_0aa1310358bdrow3_col0\" class=\"data row3 col0\" >13085</td>\n",
       "                        <td id=\"T_97e66740_8146_11ed_a40b_0aa1310358bdrow3_col1\" class=\"data row3 col1\" >1634015961774</td>\n",
       "                        <td id=\"T_97e66740_8146_11ed_a40b_0aa1310358bdrow3_col2\" class=\"data row3 col2\" >Melamine Classic Dressing Tabel for sale</td>\n",
       "                        <td id=\"T_97e66740_8146_11ed_a40b_0aa1310358bdrow3_col3\" class=\"data row3 col3\" >2.600739</td>\n",
       "            </tr>\n",
       "            <tr>\n",
       "                                <td id=\"T_97e66740_8146_11ed_a40b_0aa1310358bdrow4_col0\" class=\"data row4 col0\" >13085</td>\n",
       "                        <td id=\"T_97e66740_8146_11ed_a40b_0aa1310358bdrow4_col1\" class=\"data row4 col1\" >1634012154975</td>\n",
       "                        <td id=\"T_97e66740_8146_11ed_a40b_0aa1310358bdrow4_col2\" class=\"data row4 col2\" >Sofa Set with Coffee Table for sale</td>\n",
       "                        <td id=\"T_97e66740_8146_11ed_a40b_0aa1310358bdrow4_col3\" class=\"data row4 col3\" >2.566121</td>\n",
       "            </tr>\n",
       "            <tr>\n",
       "                                <td id=\"T_97e66740_8146_11ed_a40b_0aa1310358bdrow5_col0\" class=\"data row5 col0\" >13085</td>\n",
       "                        <td id=\"T_97e66740_8146_11ed_a40b_0aa1310358bdrow5_col1\" class=\"data row5 col1\" >1634013463077</td>\n",
       "                        <td id=\"T_97e66740_8146_11ed_a40b_0aa1310358bdrow5_col2\" class=\"data row5 col2\" >Steel Bed W D/L Mattress for sale</td>\n",
       "                        <td id=\"T_97e66740_8146_11ed_a40b_0aa1310358bdrow5_col3\" class=\"data row5 col3\" >2.378998</td>\n",
       "            </tr>\n",
       "            <tr>\n",
       "                                <td id=\"T_97e66740_8146_11ed_a40b_0aa1310358bdrow6_col0\" class=\"data row6 col0\" >13085</td>\n",
       "                        <td id=\"T_97e66740_8146_11ed_a40b_0aa1310358bdrow6_col1\" class=\"data row6 col1\" >1634015260023</td>\n",
       "                        <td id=\"T_97e66740_8146_11ed_a40b_0aa1310358bdrow6_col2\" class=\"data row6 col2\" >Teak dining table with 4 chairs 3x3 - tdtc203 for sale</td>\n",
       "                        <td id=\"T_97e66740_8146_11ed_a40b_0aa1310358bdrow6_col3\" class=\"data row6 col3\" >2.321179</td>\n",
       "            </tr>\n",
       "            <tr>\n",
       "                                <td id=\"T_97e66740_8146_11ed_a40b_0aa1310358bdrow7_col0\" class=\"data row7 col0\" >13085</td>\n",
       "                        <td id=\"T_97e66740_8146_11ed_a40b_0aa1310358bdrow7_col1\" class=\"data row7 col1\" >1634020142256</td>\n",
       "                        <td id=\"T_97e66740_8146_11ed_a40b_0aa1310358bdrow7_col2\" class=\"data row7 col2\" >Table for sale</td>\n",
       "                        <td id=\"T_97e66740_8146_11ed_a40b_0aa1310358bdrow7_col3\" class=\"data row7 col3\" >2.280246</td>\n",
       "            </tr>\n",
       "            <tr>\n",
       "                                <td id=\"T_97e66740_8146_11ed_a40b_0aa1310358bdrow8_col0\" class=\"data row8 col0\" >13085</td>\n",
       "                        <td id=\"T_97e66740_8146_11ed_a40b_0aa1310358bdrow8_col1\" class=\"data row8 col1\" >1634021066414</td>\n",
       "                        <td id=\"T_97e66740_8146_11ed_a40b_0aa1310358bdrow8_col2\" class=\"data row8 col2\" >Drawer Cupboard for sale</td>\n",
       "                        <td id=\"T_97e66740_8146_11ed_a40b_0aa1310358bdrow8_col3\" class=\"data row8 col3\" >2.270092</td>\n",
       "            </tr>\n",
       "            <tr>\n",
       "                                <td id=\"T_97e66740_8146_11ed_a40b_0aa1310358bdrow9_col0\" class=\"data row9 col0\" >13085</td>\n",
       "                        <td id=\"T_97e66740_8146_11ed_a40b_0aa1310358bdrow9_col1\" class=\"data row9 col1\" >1634016081875</td>\n",
       "                        <td id=\"T_97e66740_8146_11ed_a40b_0aa1310358bdrow9_col2\" class=\"data row9 col2\" >Two Door Cupboard for sale</td>\n",
       "                        <td id=\"T_97e66740_8146_11ed_a40b_0aa1310358bdrow9_col3\" class=\"data row9 col3\" >2.248026</td>\n",
       "            </tr>\n",
       "    </tbody></table>"
      ],
      "text/plain": [
       "<pandas.io.formats.style.Styler at 0x7f8320e89400>"
      ]
     },
     "metadata": {},
     "output_type": "display_data"
    }
   ],
   "source": [
    "\n",
    "# Read the Batch transform response and create a Panda's Dataframe for more useful visualization.\n",
    "batch_inference_response = StringIO(s3_response_bytes)\n",
    "\n",
    "recommendations_df = pd.read_csv(\n",
    "    batch_inference_response, header=None, names=[\"CustomerID\", \"StockCode\", \"Recommendation Score\"]\n",
    ")\n",
    "\n",
    "# Model inference result to associate and endorse our predictions\n",
    "display_inference_result(recommendations_df, sample_customer_id, \"batch\")"
   ]
  },
  {
   "cell_type": "code",
   "execution_count": 27,
   "id": "52cba87d",
   "metadata": {},
   "outputs": [
    {
     "name": "stdout",
     "output_type": "stream",
     "text": [
      "..........\n",
      "-----------![INFO] The model endpoint has been deployed successfully\n"
     ]
    }
   ],
   "source": [
    "# Creates the deployable model, configures the SageMaker hosting services endpoint, and launches the endpoint to host the model.\n",
    "compatible_real_time_inference_instance_type = \"ml.c5.2xlarge\"\n",
    "\n",
    "predictor = estimator.deploy(\n",
    "    1, compatible_real_time_inference_instance_type, serializer=json_serializer\n",
    ")\n",
    "print(\"[INFO] The model endpoint has been deployed successfully\")\n"
   ]
  },
  {
   "cell_type": "code",
   "execution_count": 28,
   "id": "9efb48b4",
   "metadata": {},
   "outputs": [
    {
     "data": {
      "text/markdown": [
       "**[ Top 10 Original Purchase History ] for a Customer ID : 17519**"
      ],
      "text/plain": [
       "<IPython.core.display.Markdown object>"
      ]
     },
     "metadata": {},
     "output_type": "display_data"
    },
    {
     "data": {
      "text/html": [
       "<style  type=\"text/css\" >\n",
       "</style><table id=\"T_2713a80a_8148_11ed_a40b_0aa1310358bd\" ><thead>    <tr>        <th class=\"col_heading level0 col0\" >CustomerID</th>        <th class=\"col_heading level0 col1\" >StockCode</th>        <th class=\"col_heading level0 col2\" >Description</th>        <th class=\"col_heading level0 col3\" >Quantity</th>        <th class=\"col_heading level0 col4\" >Invoice</th>        <th class=\"col_heading level0 col5\" >InvoiceDate</th>    </tr></thead><tbody>\n",
       "                <tr>\n",
       "                                <td id=\"T_2713a80a_8148_11ed_a40b_0aa1310358bdrow0_col0\" class=\"data row0 col0\" >17519</td>\n",
       "                        <td id=\"T_2713a80a_8148_11ed_a40b_0aa1310358bdrow0_col1\" class=\"data row0 col1\" >1634011935557</td>\n",
       "                        <td id=\"T_2713a80a_8148_11ed_a40b_0aa1310358bdrow0_col2\" class=\"data row0 col2\" >teakwood dressing table code 3057 for sale</td>\n",
       "                        <td id=\"T_2713a80a_8148_11ed_a40b_0aa1310358bdrow0_col3\" class=\"data row0 col3\" >12</td>\n",
       "                        <td id=\"T_2713a80a_8148_11ed_a40b_0aa1310358bdrow0_col4\" class=\"data row0 col4\" >489445</td>\n",
       "                        <td id=\"T_2713a80a_8148_11ed_a40b_0aa1310358bdrow0_col5\" class=\"data row0 col5\" >2009-12-01 09:57:00</td>\n",
       "            </tr>\n",
       "            <tr>\n",
       "                                <td id=\"T_2713a80a_8148_11ed_a40b_0aa1310358bdrow1_col0\" class=\"data row1 col0\" >17519</td>\n",
       "                        <td id=\"T_2713a80a_8148_11ed_a40b_0aa1310358bdrow1_col1\" class=\"data row1 col1\" >1634011935745</td>\n",
       "                        <td id=\"T_2713a80a_8148_11ed_a40b_0aa1310358bdrow1_col2\" class=\"data row1 col2\" >neo almari glass 2D 15 bord code 3056 for sale</td>\n",
       "                        <td id=\"T_2713a80a_8148_11ed_a40b_0aa1310358bdrow1_col3\" class=\"data row1 col3\" >12</td>\n",
       "                        <td id=\"T_2713a80a_8148_11ed_a40b_0aa1310358bdrow1_col4\" class=\"data row1 col4\" >489445</td>\n",
       "                        <td id=\"T_2713a80a_8148_11ed_a40b_0aa1310358bdrow1_col5\" class=\"data row1 col5\" >2009-12-01 09:57:00</td>\n",
       "            </tr>\n",
       "            <tr>\n",
       "                                <td id=\"T_2713a80a_8148_11ed_a40b_0aa1310358bdrow2_col0\" class=\"data row2 col0\" >17519</td>\n",
       "                        <td id=\"T_2713a80a_8148_11ed_a40b_0aa1310358bdrow2_col1\" class=\"data row2 col1\" >1634011896912</td>\n",
       "                        <td id=\"T_2713a80a_8148_11ed_a40b_0aa1310358bdrow2_col2\" class=\"data row2 col2\" >6x5 ft spring matterss and box bed code 3070 for sale</td>\n",
       "                        <td id=\"T_2713a80a_8148_11ed_a40b_0aa1310358bdrow2_col3\" class=\"data row2 col3\" >24</td>\n",
       "                        <td id=\"T_2713a80a_8148_11ed_a40b_0aa1310358bdrow2_col4\" class=\"data row2 col4\" >489445</td>\n",
       "                        <td id=\"T_2713a80a_8148_11ed_a40b_0aa1310358bdrow2_col5\" class=\"data row2 col5\" >2009-12-01 09:57:00</td>\n",
       "            </tr>\n",
       "            <tr>\n",
       "                                <td id=\"T_2713a80a_8148_11ed_a40b_0aa1310358bdrow3_col0\" class=\"data row3 col0\" >17519</td>\n",
       "                        <td id=\"T_2713a80a_8148_11ed_a40b_0aa1310358bdrow3_col1\" class=\"data row3 col1\" >1634011822469</td>\n",
       "                        <td id=\"T_2713a80a_8148_11ed_a40b_0aa1310358bdrow3_col2\" class=\"data row3 col2\" >Teak Dining Table with 6 Chairs for sale</td>\n",
       "                        <td id=\"T_2713a80a_8148_11ed_a40b_0aa1310358bdrow3_col3\" class=\"data row3 col3\" >12</td>\n",
       "                        <td id=\"T_2713a80a_8148_11ed_a40b_0aa1310358bdrow3_col4\" class=\"data row3 col4\" >489445</td>\n",
       "                        <td id=\"T_2713a80a_8148_11ed_a40b_0aa1310358bdrow3_col5\" class=\"data row3 col5\" >2009-12-01 09:57:00</td>\n",
       "            </tr>\n",
       "            <tr>\n",
       "                                <td id=\"T_2713a80a_8148_11ed_a40b_0aa1310358bdrow4_col0\" class=\"data row4 col0\" >17519</td>\n",
       "                        <td id=\"T_2713a80a_8148_11ed_a40b_0aa1310358bdrow4_col1\" class=\"data row4 col1\" >1634011935925</td>\n",
       "                        <td id=\"T_2713a80a_8148_11ed_a40b_0aa1310358bdrow4_col2\" class=\"data row4 col2\" >1st quality teakwood sofa set code 3055 for sale</td>\n",
       "                        <td id=\"T_2713a80a_8148_11ed_a40b_0aa1310358bdrow4_col3\" class=\"data row4 col3\" >2</td>\n",
       "                        <td id=\"T_2713a80a_8148_11ed_a40b_0aa1310358bdrow4_col4\" class=\"data row4 col4\" >489445</td>\n",
       "                        <td id=\"T_2713a80a_8148_11ed_a40b_0aa1310358bdrow4_col5\" class=\"data row4 col5\" >2009-12-01 09:57:00</td>\n",
       "            </tr>\n",
       "            <tr>\n",
       "                                <td id=\"T_2713a80a_8148_11ed_a40b_0aa1310358bdrow5_col0\" class=\"data row5 col0\" >17519</td>\n",
       "                        <td id=\"T_2713a80a_8148_11ed_a40b_0aa1310358bdrow5_col1\" class=\"data row5 col1\" >1634011936116</td>\n",
       "                        <td id=\"T_2713a80a_8148_11ed_a40b_0aa1310358bdrow5_col2\" class=\"data row5 col2\" >no1 quality teakwood sofa set code 3054 for sale</td>\n",
       "                        <td id=\"T_2713a80a_8148_11ed_a40b_0aa1310358bdrow5_col3\" class=\"data row5 col3\" >12</td>\n",
       "                        <td id=\"T_2713a80a_8148_11ed_a40b_0aa1310358bdrow5_col4\" class=\"data row5 col4\" >489445</td>\n",
       "                        <td id=\"T_2713a80a_8148_11ed_a40b_0aa1310358bdrow5_col5\" class=\"data row5 col5\" >2009-12-01 09:57:00</td>\n",
       "            </tr>\n",
       "            <tr>\n",
       "                                <td id=\"T_2713a80a_8148_11ed_a40b_0aa1310358bdrow6_col0\" class=\"data row6 col0\" >17519</td>\n",
       "                        <td id=\"T_2713a80a_8148_11ed_a40b_0aa1310358bdrow6_col1\" class=\"data row6 col1\" >1634011936303</td>\n",
       "                        <td id=\"T_2713a80a_8148_11ed_a40b_0aa1310358bdrow6_col2\" class=\"data row6 col2\" >n1 piyestra original cupboard code 3052 for sale</td>\n",
       "                        <td id=\"T_2713a80a_8148_11ed_a40b_0aa1310358bdrow6_col3\" class=\"data row6 col3\" >6</td>\n",
       "                        <td id=\"T_2713a80a_8148_11ed_a40b_0aa1310358bdrow6_col4\" class=\"data row6 col4\" >489445</td>\n",
       "                        <td id=\"T_2713a80a_8148_11ed_a40b_0aa1310358bdrow6_col5\" class=\"data row6 col5\" >2009-12-01 09:57:00</td>\n",
       "            </tr>\n",
       "            <tr>\n",
       "                                <td id=\"T_2713a80a_8148_11ed_a40b_0aa1310358bdrow7_col0\" class=\"data row7 col0\" >17519</td>\n",
       "                        <td id=\"T_2713a80a_8148_11ed_a40b_0aa1310358bdrow7_col1\" class=\"data row7 col1\" >1634011936490</td>\n",
       "                        <td id=\"T_2713a80a_8148_11ed_a40b_0aa1310358bdrow7_col2\" class=\"data row7 col2\" >6x3 ft underlocker 2 melamine cupboard code 3051 for sale</td>\n",
       "                        <td id=\"T_2713a80a_8148_11ed_a40b_0aa1310358bdrow7_col3\" class=\"data row7 col3\" >48</td>\n",
       "                        <td id=\"T_2713a80a_8148_11ed_a40b_0aa1310358bdrow7_col4\" class=\"data row7 col4\" >489445</td>\n",
       "                        <td id=\"T_2713a80a_8148_11ed_a40b_0aa1310358bdrow7_col5\" class=\"data row7 col5\" >2009-12-01 09:57:00</td>\n",
       "            </tr>\n",
       "            <tr>\n",
       "                                <td id=\"T_2713a80a_8148_11ed_a40b_0aa1310358bdrow8_col0\" class=\"data row8 col0\" >17519</td>\n",
       "                        <td id=\"T_2713a80a_8148_11ed_a40b_0aa1310358bdrow8_col1\" class=\"data row8 col1\" >1634011936640</td>\n",
       "                        <td id=\"T_2713a80a_8148_11ed_a40b_0aa1310358bdrow8_col2\" class=\"data row8 col2\" >6x3 ft melamine cupboard (fully doors) code 3050 for sale</td>\n",
       "                        <td id=\"T_2713a80a_8148_11ed_a40b_0aa1310358bdrow8_col3\" class=\"data row8 col3\" >12</td>\n",
       "                        <td id=\"T_2713a80a_8148_11ed_a40b_0aa1310358bdrow8_col4\" class=\"data row8 col4\" >489445</td>\n",
       "                        <td id=\"T_2713a80a_8148_11ed_a40b_0aa1310358bdrow8_col5\" class=\"data row8 col5\" >2009-12-01 09:57:00</td>\n",
       "            </tr>\n",
       "            <tr>\n",
       "                                <td id=\"T_2713a80a_8148_11ed_a40b_0aa1310358bdrow9_col0\" class=\"data row9 col0\" >17519</td>\n",
       "                        <td id=\"T_2713a80a_8148_11ed_a40b_0aa1310358bdrow9_col1\" class=\"data row9 col1\" >1634011936797</td>\n",
       "                        <td id=\"T_2713a80a_8148_11ed_a40b_0aa1310358bdrow9_col2\" class=\"data row9 col2\" >Dining Table with Chairs for sale</td>\n",
       "                        <td id=\"T_2713a80a_8148_11ed_a40b_0aa1310358bdrow9_col3\" class=\"data row9 col3\" >12</td>\n",
       "                        <td id=\"T_2713a80a_8148_11ed_a40b_0aa1310358bdrow9_col4\" class=\"data row9 col4\" >489445</td>\n",
       "                        <td id=\"T_2713a80a_8148_11ed_a40b_0aa1310358bdrow9_col5\" class=\"data row9 col5\" >2009-12-01 09:57:00</td>\n",
       "            </tr>\n",
       "    </tbody></table>"
      ],
      "text/plain": [
       "<pandas.io.formats.style.Styler at 0x7f8326216df0>"
      ]
     },
     "execution_count": 28,
     "metadata": {},
     "output_type": "execute_result"
    }
   ],
   "source": [
    "example_customer_id = 17519\n",
    "# Let us present the top 10 original purchase history for this customer.\n",
    "display_original_purchase_history(online_retail_data, example_customer_id, 10)"
   ]
  },
  {
   "cell_type": "code",
   "execution_count": 34,
   "id": "4f1ab714",
   "metadata": {},
   "outputs": [
    {
     "name": "stderr",
     "output_type": "stream",
     "text": [
      "The endpoint attribute has been renamed in sagemaker>=2.\n",
      "See: https://sagemaker.readthedocs.io/en/stable/v2.html for details.\n"
     ]
    },
    {
     "name": "stdout",
     "output_type": "stream",
     "text": [
      "[INFO] JSON Response received from SageMaker Model Endpoint: \n"
     ]
    },
    {
     "data": {
      "text/plain": [
       "[{'user_id': '17519', 'item_id': '1634019738700', 'score': 3.5509696007},\n",
       " {'user_id': '17519', 'item_id': '1634019737758', 'score': 3.202539444},\n",
       " {'user_id': '17519', 'item_id': '1634018062871', 'score': 3.1720252037},\n",
       " {'user_id': '17519', 'item_id': '1634017121001', 'score': 3.0972342491},\n",
       " {'user_id': '17519', 'item_id': '1634011936797', 'score': 3.0857162476},\n",
       " {'user_id': '17519', 'item_id': '1634013367094', 'score': 3.0047881603},\n",
       " {'user_id': '17519', 'item_id': '1634017847664', 'score': 2.9884800911},\n",
       " {'user_id': '17519', 'item_id': '1634020744177', 'score': 2.9565622807},\n",
       " {'user_id': '17519', 'item_id': '1634019439874', 'score': 2.9487900734},\n",
       " {'user_id': '17519', 'item_id': '1634013364623', 'score': 2.9465601444}]"
      ]
     },
     "metadata": {},
     "output_type": "display_data"
    }
   ],
   "source": [
    "\n",
    "response_dict = \"\"\n",
    "top_n = 10\n",
    "\n",
    "# Build the JSON Inference request\n",
    "json_inference_request = {\"user_id\": str(example_customer_id), \"top_n\": str(top_n)}\n",
    "# Make an Inference Request to the deployed Endpoint\n",
    "response = boto3_sm_runtime.invoke_endpoint(\n",
    "    EndpointName=predictor.endpoint,\n",
    "    Body=json.dumps(json_inference_request),\n",
    "    ContentType=\"application/json\",\n",
    ")\n",
    "inference_response_body = response[\"Body\"].read().decode(\"utf-8\")\n",
    "response_dict = eval(inference_response_body)\n",
    "print(\"[INFO] JSON Response received from SageMaker Model Endpoint: \")\n",
    "display(response_dict)\n"
   ]
  },
  {
   "cell_type": "code",
   "execution_count": 33,
   "id": "39afa39f",
   "metadata": {},
   "outputs": [
    {
     "name": "stderr",
     "output_type": "stream",
     "text": [
      "The endpoint attribute has been renamed in sagemaker>=2.\n",
      "See: https://sagemaker.readthedocs.io/en/stable/v2.html for details.\n"
     ]
    },
    {
     "name": "stdout",
     "output_type": "stream",
     "text": [
      "implicit-bpr-online-retail-training-2022-12-21-15-50-51-006\n"
     ]
    }
   ],
   "source": [
    "print(predictor.endpoint)"
   ]
  },
  {
   "cell_type": "code",
   "execution_count": 32,
   "id": "81f92ccc",
   "metadata": {},
   "outputs": [
    {
     "data": {
      "text/markdown": [
       "**[ Real-Time Inference ] Recommended Items with the Ranking for a Customer ID : 17519**"
      ],
      "text/plain": [
       "<IPython.core.display.Markdown object>"
      ]
     },
     "metadata": {},
     "output_type": "display_data"
    },
    {
     "data": {
      "text/html": [
       "<style  type=\"text/css\" >\n",
       "</style><table id=\"T_3be7a7d6_8148_11ed_a40b_0aa1310358bd\" ><thead>    <tr>        <th class=\"col_heading level0 col0\" >CustomerID</th>        <th class=\"col_heading level0 col1\" >StockCode</th>        <th class=\"col_heading level0 col2\" >Description</th>        <th class=\"col_heading level0 col3\" >Recommendation Score</th>    </tr></thead><tbody>\n",
       "                <tr>\n",
       "                                <td id=\"T_3be7a7d6_8148_11ed_a40b_0aa1310358bdrow0_col0\" class=\"data row0 col0\" >17519</td>\n",
       "                        <td id=\"T_3be7a7d6_8148_11ed_a40b_0aa1310358bdrow0_col1\" class=\"data row0 col1\" >1634019738700</td>\n",
       "                        <td id=\"T_3be7a7d6_8148_11ed_a40b_0aa1310358bdrow0_col2\" class=\"data row0 col2\" >3,1,1 Brand New Sofa Set (IM-111) for sale</td>\n",
       "                        <td id=\"T_3be7a7d6_8148_11ed_a40b_0aa1310358bdrow0_col3\" class=\"data row0 col3\" >3.550970</td>\n",
       "            </tr>\n",
       "            <tr>\n",
       "                                <td id=\"T_3be7a7d6_8148_11ed_a40b_0aa1310358bdrow1_col0\" class=\"data row1 col0\" >17519</td>\n",
       "                        <td id=\"T_3be7a7d6_8148_11ed_a40b_0aa1310358bdrow1_col1\" class=\"data row1 col1\" >1634019737758</td>\n",
       "                        <td id=\"T_3be7a7d6_8148_11ed_a40b_0aa1310358bdrow1_col2\" class=\"data row1 col2\" >table W Cupboard for sale</td>\n",
       "                        <td id=\"T_3be7a7d6_8148_11ed_a40b_0aa1310358bdrow1_col3\" class=\"data row1 col3\" >3.202539</td>\n",
       "            </tr>\n",
       "            <tr>\n",
       "                                <td id=\"T_3be7a7d6_8148_11ed_a40b_0aa1310358bdrow2_col0\" class=\"data row2 col0\" >17519</td>\n",
       "                        <td id=\"T_3be7a7d6_8148_11ed_a40b_0aa1310358bdrow2_col1\" class=\"data row2 col1\" >1634018062871</td>\n",
       "                        <td id=\"T_3be7a7d6_8148_11ed_a40b_0aa1310358bdrow2_col2\" class=\"data row2 col2\" >Depo Teak Heavy Modern 2 door Based Almary code 8848 for sale</td>\n",
       "                        <td id=\"T_3be7a7d6_8148_11ed_a40b_0aa1310358bdrow2_col3\" class=\"data row2 col3\" >3.172025</td>\n",
       "            </tr>\n",
       "            <tr>\n",
       "                                <td id=\"T_3be7a7d6_8148_11ed_a40b_0aa1310358bdrow3_col0\" class=\"data row3 col0\" >17519</td>\n",
       "                        <td id=\"T_3be7a7d6_8148_11ed_a40b_0aa1310358bdrow3_col1\" class=\"data row3 col1\" >1634017121001</td>\n",
       "                        <td id=\"T_3be7a7d6_8148_11ed_a40b_0aa1310358bdrow3_col2\" class=\"data row3 col2\" >Antique Settee Set for sale</td>\n",
       "                        <td id=\"T_3be7a7d6_8148_11ed_a40b_0aa1310358bdrow3_col3\" class=\"data row3 col3\" >3.097234</td>\n",
       "            </tr>\n",
       "            <tr>\n",
       "                                <td id=\"T_3be7a7d6_8148_11ed_a40b_0aa1310358bdrow4_col0\" class=\"data row4 col0\" >17519</td>\n",
       "                        <td id=\"T_3be7a7d6_8148_11ed_a40b_0aa1310358bdrow4_col1\" class=\"data row4 col1\" >1634011936797</td>\n",
       "                        <td id=\"T_3be7a7d6_8148_11ed_a40b_0aa1310358bdrow4_col2\" class=\"data row4 col2\" >Dining Table with Chairs for sale</td>\n",
       "                        <td id=\"T_3be7a7d6_8148_11ed_a40b_0aa1310358bdrow4_col3\" class=\"data row4 col3\" >3.085716</td>\n",
       "            </tr>\n",
       "            <tr>\n",
       "                                <td id=\"T_3be7a7d6_8148_11ed_a40b_0aa1310358bdrow5_col0\" class=\"data row5 col0\" >17519</td>\n",
       "                        <td id=\"T_3be7a7d6_8148_11ed_a40b_0aa1310358bdrow5_col1\" class=\"data row5 col1\" >1634013367094</td>\n",
       "                        <td id=\"T_3be7a7d6_8148_11ed_a40b_0aa1310358bdrow5_col2\" class=\"data row5 col2\" >Depo Teak Modern Dining Table 4 Chairs Code 9004 for sale</td>\n",
       "                        <td id=\"T_3be7a7d6_8148_11ed_a40b_0aa1310358bdrow5_col3\" class=\"data row5 col3\" >3.004788</td>\n",
       "            </tr>\n",
       "            <tr>\n",
       "                                <td id=\"T_3be7a7d6_8148_11ed_a40b_0aa1310358bdrow6_col0\" class=\"data row6 col0\" >17519</td>\n",
       "                        <td id=\"T_3be7a7d6_8148_11ed_a40b_0aa1310358bdrow6_col1\" class=\"data row6 col1\" >1634017847664</td>\n",
       "                        <td id=\"T_3be7a7d6_8148_11ed_a40b_0aa1310358bdrow6_col2\" class=\"data row6 col2\" >Depo Teak 3 Door Base Arch Cupboard - Tdac00023 for sale</td>\n",
       "                        <td id=\"T_3be7a7d6_8148_11ed_a40b_0aa1310358bdrow6_col3\" class=\"data row6 col3\" >2.988480</td>\n",
       "            </tr>\n",
       "            <tr>\n",
       "                                <td id=\"T_3be7a7d6_8148_11ed_a40b_0aa1310358bdrow7_col0\" class=\"data row7 col0\" >17519</td>\n",
       "                        <td id=\"T_3be7a7d6_8148_11ed_a40b_0aa1310358bdrow7_col1\" class=\"data row7 col1\" >1634020744177</td>\n",
       "                        <td id=\"T_3be7a7d6_8148_11ed_a40b_0aa1310358bdrow7_col2\" class=\"data row7 col2\" >Damro Computer Table for sale</td>\n",
       "                        <td id=\"T_3be7a7d6_8148_11ed_a40b_0aa1310358bdrow7_col3\" class=\"data row7 col3\" >2.956562</td>\n",
       "            </tr>\n",
       "            <tr>\n",
       "                                <td id=\"T_3be7a7d6_8148_11ed_a40b_0aa1310358bdrow8_col0\" class=\"data row8 col0\" >17519</td>\n",
       "                        <td id=\"T_3be7a7d6_8148_11ed_a40b_0aa1310358bdrow8_col1\" class=\"data row8 col1\" >1634019439874</td>\n",
       "                        <td id=\"T_3be7a7d6_8148_11ed_a40b_0aa1310358bdrow8_col2\" class=\"data row8 col2\" >LATEST 72\"X75\" KING SIZE CUSHION BED -SNP 7866 for sale</td>\n",
       "                        <td id=\"T_3be7a7d6_8148_11ed_a40b_0aa1310358bdrow8_col3\" class=\"data row8 col3\" >2.948790</td>\n",
       "            </tr>\n",
       "            <tr>\n",
       "                                <td id=\"T_3be7a7d6_8148_11ed_a40b_0aa1310358bdrow9_col0\" class=\"data row9 col0\" >17519</td>\n",
       "                        <td id=\"T_3be7a7d6_8148_11ed_a40b_0aa1310358bdrow9_col1\" class=\"data row9 col1\" >1634013364623</td>\n",
       "                        <td id=\"T_3be7a7d6_8148_11ed_a40b_0aa1310358bdrow9_col2\" class=\"data row9 col2\" >Wardrobe for sale</td>\n",
       "                        <td id=\"T_3be7a7d6_8148_11ed_a40b_0aa1310358bdrow9_col3\" class=\"data row9 col3\" >2.946560</td>\n",
       "            </tr>\n",
       "    </tbody></table>"
      ],
      "text/plain": [
       "<pandas.io.formats.style.Styler at 0x7f83223d64c0>"
      ]
     },
     "metadata": {},
     "output_type": "display_data"
    }
   ],
   "source": [
    "if len(response_dict) > 0:\n",
    "    online_response_df = pd.read_json(json.dumps(response_dict))\n",
    "    # Model inference result to associate and endorse our predictions\n",
    "    display_inference_result(online_response_df, example_customer_id, \"realtime\")\n",
    "else:\n",
    "    print(\n",
    "        \"[INFO] No response received for the request with Real-Time Inference for CustomerID {}.\".format(\n",
    "            customer_id\n",
    "        )\n",
    "    )"
   ]
  },
  {
   "cell_type": "code",
   "execution_count": null,
   "id": "4e90d469",
   "metadata": {},
   "outputs": [],
   "source": [
    "#cleaning\n",
    "predictor.delete_model()\n",
    "predictor.delete_endpoint()\n",
    "estimator.delete_endpoint()\n",
    "\n",
    "\n",
    "     "
   ]
  },
  {
   "cell_type": "code",
   "execution_count": null,
   "id": "2d0ced8f",
   "metadata": {},
   "outputs": [],
   "source": [
    "rm -rf $DATASET_DIR $TRAINING_WORKDIR $TEST_WORKDIR $BATCH_REQUEST_WORKDIR"
   ]
  }
 ],
 "metadata": {
  "kernelspec": {
   "display_name": "conda_python3",
   "language": "python",
   "name": "conda_python3"
  },
  "language_info": {
   "codemirror_mode": {
    "name": "ipython",
    "version": 3
   },
   "file_extension": ".py",
   "mimetype": "text/x-python",
   "name": "python",
   "nbconvert_exporter": "python",
   "pygments_lexer": "ipython3",
   "version": "3.8.12"
  }
 },
 "nbformat": 4,
 "nbformat_minor": 5
}
